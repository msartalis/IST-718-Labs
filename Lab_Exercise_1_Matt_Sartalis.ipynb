{
  "nbformat": 4,
  "nbformat_minor": 0,
  "metadata": {
    "colab": {
      "name": "Lab Exercise #1- Matt Sartalis ",
      "provenance": [],
      "collapsed_sections": [],
      "mount_file_id": "1_zoee81I5YjlbXqivE0R6Kf54TnmXem1",
      "authorship_tag": "ABX9TyNlCDsCZY9j19ENL/VJ6deT",
      "include_colab_link": true
    },
    "kernelspec": {
      "name": "python3",
      "display_name": "Python 3"
    },
    "language_info": {
      "name": "python"
    }
  },
  "cells": [
    {
      "cell_type": "markdown",
      "metadata": {
        "id": "view-in-github",
        "colab_type": "text"
      },
      "source": [
        "<a href=\"https://colab.research.google.com/github/msartalis/IST-718-Labs/blob/main/Lab_Exercise_1_Matt_Sartalis.ipynb\" target=\"_parent\"><img src=\"https://colab.research.google.com/assets/colab-badge.svg\" alt=\"Open In Colab\"/></a>"
      ]
    },
    {
      "cell_type": "code",
      "metadata": {
        "id": "wf6AOtlAL4Hw",
        "colab": {
          "base_uri": "https://localhost:8080/"
        },
        "outputId": "b6ed0320-4f52-4110-8cfb-f36d4b425e80"
      },
      "source": [
        "!pip install python_Levenshtein-0.12.0-cp36-cp36m-win_amd64.whl\n",
        "!pip install fuzzymatcher"
      ],
      "execution_count": 302,
      "outputs": [
        {
          "output_type": "stream",
          "text": [
            "\u001b[33mWARNING: Requirement 'python_Levenshtein-0.12.0-cp36-cp36m-win_amd64.whl' looks like a filename, but the file does not exist\u001b[0m\n",
            "\u001b[31mERROR: python_Levenshtein-0.12.0-cp36-cp36m-win_amd64.whl is not a supported wheel on this platform.\u001b[0m\n",
            "Requirement already satisfied: fuzzymatcher in /usr/local/lib/python3.7/dist-packages (0.0.5)\n",
            "Requirement already satisfied: pandas in /usr/local/lib/python3.7/dist-packages (from fuzzymatcher) (1.1.5)\n",
            "Requirement already satisfied: fuzzywuzzy in /usr/local/lib/python3.7/dist-packages (from fuzzymatcher) (0.18.0)\n",
            "Requirement already satisfied: python-Levenshtein in /usr/local/lib/python3.7/dist-packages (from fuzzymatcher) (0.12.2)\n",
            "Requirement already satisfied: metaphone in /usr/local/lib/python3.7/dist-packages (from fuzzymatcher) (0.6)\n",
            "Requirement already satisfied: python-dateutil in /usr/local/lib/python3.7/dist-packages (from fuzzymatcher) (2.8.1)\n",
            "Requirement already satisfied: numpy>=1.15.4 in /usr/local/lib/python3.7/dist-packages (from pandas->fuzzymatcher) (1.19.5)\n",
            "Requirement already satisfied: pytz>=2017.2 in /usr/local/lib/python3.7/dist-packages (from pandas->fuzzymatcher) (2018.9)\n",
            "Requirement already satisfied: six>=1.5 in /usr/local/lib/python3.7/dist-packages (from python-dateutil->fuzzymatcher) (1.15.0)\n",
            "Requirement already satisfied: setuptools in /usr/local/lib/python3.7/dist-packages (from python-Levenshtein->fuzzymatcher) (57.2.0)\n"
          ],
          "name": "stdout"
        }
      ]
    },
    {
      "cell_type": "code",
      "metadata": {
        "id": "DSeNwvo5pGS8",
        "colab": {
          "base_uri": "https://localhost:8080/"
        },
        "outputId": "85d0cc6f-7138-4e70-89af-ec2221ec2ac1"
      },
      "source": [
        "# import packages for analysis and modeling\n",
        "import pandas as pd  # data frame operations\n",
        "import fuzzymatcher \n",
        "import numpy as np  # arrays and math functions\n",
        "from scipy.stats import uniform  # for training-and-test split\n",
        "import statsmodels.api as sm  # statistical models (including regression)\n",
        "import statsmodels.formula.api as smf  # R-like model specification\n",
        "import matplotlib.pyplot as plt  # 2D plotting\n",
        "import json\n",
        "import seaborn as sns  # PROVIDES TRELLIS AND SMALL MULTIPLE PLOTTING\n",
        "import tensorflow as tf\n",
        "import matplotlib.pyplot as plt\n",
        "from tqdm import tqdm as tqdm\n",
        "import requests\n",
        "import lxml.html as lh\n",
        "import pandas as pd\n",
        "from pydrive.drive import GoogleDrive\n",
        "coaches = pd.read_csv(\"https://raw.githubusercontent.com/2SUBDA/IST_718/master/Coaches9.csv\")\n",
        "print(coaches)"
      ],
      "execution_count": 303,
      "outputs": [
        {
          "output_type": "stream",
          "text": [
            "                    School Conference  ... AssistantPay        Buyout\n",
            "0                Air Force   Mt. West  ...          $0             --\n",
            "1                    Akron        MAC  ...          $0      $688,500 \n",
            "2                  Alabama        SEC  ...          $0   $33,600,000 \n",
            "3    Alabama at Birmingham      C-USA  ...          $0    $3,847,500 \n",
            "4        Appalachian State   Sun Belt  ...          $0    $2,160,417 \n",
            "..                     ...        ...  ...          ...           ...\n",
            "124          West Virginia     Big 12  ...          $0    $7,150,000 \n",
            "125       Western Kentucky      C-USA  ...          $0    $1,200,000 \n",
            "126       Western Michigan        MAC  ...          $0      $800,000 \n",
            "127              Wisconsin    Big Ten  ...          $0    $6,000,000 \n",
            "128                Wyoming   Mt. West  ...          $0    $8,016,667 \n",
            "\n",
            "[129 rows x 9 columns]\n"
          ],
          "name": "stdout"
        }
      ]
    },
    {
      "cell_type": "code",
      "metadata": {
        "id": "SW63j3Dclp3h"
      },
      "source": [
        "coaches['SchoolPay'] = coaches['SchoolPay'].astype(str)\n",
        "coaches['SchoolPay'] = coaches['SchoolPay'].str.replace(',', '')\n",
        "coaches['SchoolPay'] = coaches['SchoolPay'].str.replace('$', '')\n",
        "coaches['SchoolPay'] = coaches['SchoolPay'].str.replace('--', '')\n",
        "coaches['SchoolPay'] = pd.to_numeric(coaches['SchoolPay'],errors='raise')\n",
        "coaches['SchoolPay'] = coaches['SchoolPay'].fillna(0)\n",
        "\n",
        "coaches['TotalPay'] = coaches['TotalPay'].str.replace(',', '')\n",
        "coaches['TotalPay'] = coaches['TotalPay'].str.replace('$', '')\n",
        "coaches['TotalPay'] = coaches['TotalPay'].str.replace('--', '')\n",
        "coaches['TotalPay'] = pd.to_numeric(coaches['TotalPay'],errors='raise')\n",
        "coaches['TotalPay'] = coaches['TotalPay'].fillna(0)\n",
        "\n",
        "coaches['Bonus'] = coaches['Bonus'].str.replace(',', '')\n",
        "coaches['Bonus'] = coaches['Bonus'].str.replace('$', '')\n",
        "coaches['Bonus'] = coaches['Bonus'].str.replace('--', '')\n",
        "coaches['Bonus'] = pd.to_numeric(coaches['Bonus'],errors='raise')\n",
        "coaches['Bonus'] = coaches['Bonus'].fillna(0)\n",
        "\n",
        "coaches['BonusPaid'] = coaches['BonusPaid'].str.replace(',', '')\n",
        "coaches['BonusPaid'] = coaches['BonusPaid'].str.replace('$', '')\n",
        "coaches['BonusPaid'] = coaches['BonusPaid'].str.replace('--', '')\n",
        "coaches['BonusPaid'] = pd.to_numeric(coaches['BonusPaid'],errors='raise')\n",
        "coaches['BonusPaid'] = coaches['BonusPaid'].fillna(0)\n",
        "\n",
        "coaches['AssistantPay'] = coaches['AssistantPay'].str.replace(',', '')\n",
        "coaches['AssistantPay'] = coaches['AssistantPay'].str.replace('$', '')\n",
        "coaches['AssistantPay'] = coaches['AssistantPay'].str.replace('--', '')\n",
        "coaches['AssistantPay'] = pd.to_numeric(coaches['AssistantPay'])\n",
        "\n",
        "coaches['Buyout'] = coaches['Buyout'].str.replace(',', '')\n",
        "coaches['Buyout'] = coaches['Buyout'].str.replace('$', '')\n",
        "coaches['Buyout'] = coaches['Buyout'].str.replace('--', '')\n",
        "coaches['Buyout'] = pd.to_numeric(coaches['Buyout'],errors='raise')\n",
        "coaches['Buyout'] = coaches['Buyout'].fillna(0)\n",
        "\n"
      ],
      "execution_count": 304,
      "outputs": []
    },
    {
      "cell_type": "code",
      "metadata": {
        "id": "rWhLB0Cs9cTi",
        "colab": {
          "base_uri": "https://localhost:8080/"
        },
        "outputId": "0245845e-f9e8-4099-e4e2-def5e8aea2c4"
      },
      "source": [
        "#Removing Schools with Nan from the data set as it does not have any data\n",
        "\n",
        "coaches = coaches[coaches['SchoolPay'] > 10] \n",
        "coaches.info()\n",
        "\n"
      ],
      "execution_count": 305,
      "outputs": [
        {
          "output_type": "stream",
          "text": [
            "<class 'pandas.core.frame.DataFrame'>\n",
            "Int64Index: 125 entries, 0 to 128\n",
            "Data columns (total 9 columns):\n",
            " #   Column        Non-Null Count  Dtype  \n",
            "---  ------        --------------  -----  \n",
            " 0   School        125 non-null    object \n",
            " 1   Conference    125 non-null    object \n",
            " 2   Coach         125 non-null    object \n",
            " 3   SchoolPay     125 non-null    float64\n",
            " 4   TotalPay      125 non-null    float64\n",
            " 5   Bonus         125 non-null    float64\n",
            " 6   BonusPaid     125 non-null    float64\n",
            " 7   AssistantPay  125 non-null    int64  \n",
            " 8   Buyout        125 non-null    float64\n",
            "dtypes: float64(5), int64(1), object(3)\n",
            "memory usage: 9.8+ KB\n"
          ],
          "name": "stdout"
        }
      ]
    },
    {
      "cell_type": "code",
      "metadata": {
        "id": "mMLTXsOaI8AV",
        "colab": {
          "base_uri": "https://localhost:8080/",
          "height": 203
        },
        "outputId": "6f4ed35b-5304-404f-8f04-293649b0d252"
      },
      "source": [
        "stadiums = pd.read_csv('/content/drive/My Drive/Colab Notebooks/stadiums.csv')\n",
        "\n",
        "stadiums['Capacity'] = stadiums['Capacity'].str.replace(',', '')\n",
        "stadiums['Capacity'] = pd.to_numeric(stadiums['Capacity'], errors='raise')\n",
        "\n",
        "stadiums['Conference']=stadiums['Conference'].replace({'Mountain West': 'Mt. West'})\n",
        "stadiums['Conference']=stadiums['Conference'].replace({'Independent': 'Ind.'})\n",
        "\n",
        "stadiums.head()\n",
        "\n",
        "\n"
      ],
      "execution_count": 306,
      "outputs": [
        {
          "output_type": "execute_result",
          "data": {
            "text/html": [
              "<div>\n",
              "<style scoped>\n",
              "    .dataframe tbody tr th:only-of-type {\n",
              "        vertical-align: middle;\n",
              "    }\n",
              "\n",
              "    .dataframe tbody tr th {\n",
              "        vertical-align: top;\n",
              "    }\n",
              "\n",
              "    .dataframe thead th {\n",
              "        text-align: right;\n",
              "    }\n",
              "</style>\n",
              "<table border=\"1\" class=\"dataframe\">\n",
              "  <thead>\n",
              "    <tr style=\"text-align: right;\">\n",
              "      <th></th>\n",
              "      <th>Stadium</th>\n",
              "      <th>College</th>\n",
              "      <th>Conference</th>\n",
              "      <th>Capacity</th>\n",
              "      <th>Opened</th>\n",
              "    </tr>\n",
              "  </thead>\n",
              "  <tbody>\n",
              "    <tr>\n",
              "      <th>0</th>\n",
              "      <td>Falcon Stadium</td>\n",
              "      <td>Air Force</td>\n",
              "      <td>Mt. West</td>\n",
              "      <td>52237.0</td>\n",
              "      <td>1962.0</td>\n",
              "    </tr>\n",
              "    <tr>\n",
              "      <th>1</th>\n",
              "      <td>InfoCision Stadium</td>\n",
              "      <td>Akron</td>\n",
              "      <td>MAC</td>\n",
              "      <td>30000.0</td>\n",
              "      <td>2009.0</td>\n",
              "    </tr>\n",
              "    <tr>\n",
              "      <th>2</th>\n",
              "      <td>Bryant Denny Stadium</td>\n",
              "      <td>Alabama</td>\n",
              "      <td>SEC</td>\n",
              "      <td>101821.0</td>\n",
              "      <td>1929.0</td>\n",
              "    </tr>\n",
              "    <tr>\n",
              "      <th>3</th>\n",
              "      <td>Kidd Brewer Stadium</td>\n",
              "      <td>Appalachain State</td>\n",
              "      <td>Sun Belt</td>\n",
              "      <td>24150.0</td>\n",
              "      <td>1962.0</td>\n",
              "    </tr>\n",
              "    <tr>\n",
              "      <th>4</th>\n",
              "      <td>Arizona Stadium</td>\n",
              "      <td>Arizona</td>\n",
              "      <td>Pac 12</td>\n",
              "      <td>56037.0</td>\n",
              "      <td>1928.0</td>\n",
              "    </tr>\n",
              "  </tbody>\n",
              "</table>\n",
              "</div>"
            ],
            "text/plain": [
              "                Stadium            College Conference  Capacity  Opened\n",
              "0        Falcon Stadium          Air Force   Mt. West   52237.0  1962.0\n",
              "1    InfoCision Stadium              Akron        MAC   30000.0  2009.0\n",
              "2  Bryant Denny Stadium            Alabama        SEC  101821.0  1929.0\n",
              "3   Kidd Brewer Stadium  Appalachain State   Sun Belt   24150.0  1962.0\n",
              "4       Arizona Stadium            Arizona     Pac 12   56037.0  1928.0"
            ]
          },
          "metadata": {
            "tags": []
          },
          "execution_count": 306
        }
      ]
    },
    {
      "cell_type": "markdown",
      "metadata": {
        "id": "RgnsBYb9Y6-f"
      },
      "source": [
        "# New Section"
      ]
    },
    {
      "cell_type": "code",
      "metadata": {
        "id": "gewLKSQtv0sM",
        "colab": {
          "base_uri": "https://localhost:8080/",
          "height": 203
        },
        "outputId": "f7effc21-8ab6-4322-81f2-b3c3894c3596"
      },
      "source": [
        "      \n",
        "WL = pd.read_csv('/content/drive/My Drive/Colab Notebooks/WL.csv',encoding= 'unicode_escape')\n",
        "\n",
        "WL.head()\n",
        "\n"
      ],
      "execution_count": 307,
      "outputs": [
        {
          "output_type": "execute_result",
          "data": {
            "text/html": [
              "<div>\n",
              "<style scoped>\n",
              "    .dataframe tbody tr th:only-of-type {\n",
              "        vertical-align: middle;\n",
              "    }\n",
              "\n",
              "    .dataframe tbody tr th {\n",
              "        vertical-align: top;\n",
              "    }\n",
              "\n",
              "    .dataframe thead th {\n",
              "        text-align: right;\n",
              "    }\n",
              "</style>\n",
              "<table border=\"1\" class=\"dataframe\">\n",
              "  <thead>\n",
              "    <tr style=\"text-align: right;\">\n",
              "      <th></th>\n",
              "      <th>Rank</th>\n",
              "      <th>School</th>\n",
              "      <th>Won</th>\n",
              "      <th>Lost</th>\n",
              "      <th>Tied</th>\n",
              "      <th>Pct.</th>\n",
              "      <th>Years</th>\n",
              "      <th>Total Games</th>\n",
              "      <th>Conference</th>\n",
              "    </tr>\n",
              "  </thead>\n",
              "  <tbody>\n",
              "    <tr>\n",
              "      <th>0</th>\n",
              "      <td>1</td>\n",
              "      <td>Ohio State</td>\n",
              "      <td>931</td>\n",
              "      <td>327</td>\n",
              "      <td>53</td>\n",
              "      <td>0.730</td>\n",
              "      <td>130</td>\n",
              "      <td>1311</td>\n",
              "      <td>Big Ten</td>\n",
              "    </tr>\n",
              "    <tr>\n",
              "      <th>1</th>\n",
              "      <td>2</td>\n",
              "      <td>Alabama</td>\n",
              "      <td>929</td>\n",
              "      <td>331</td>\n",
              "      <td>43</td>\n",
              "      <td>0.729</td>\n",
              "      <td>125</td>\n",
              "      <td>1303</td>\n",
              "      <td>SEC</td>\n",
              "    </tr>\n",
              "    <tr>\n",
              "      <th>2</th>\n",
              "      <td>3</td>\n",
              "      <td>Notre Dame</td>\n",
              "      <td>918</td>\n",
              "      <td>328</td>\n",
              "      <td>42</td>\n",
              "      <td>0.729</td>\n",
              "      <td>130</td>\n",
              "      <td>1288</td>\n",
              "      <td>Independent</td>\n",
              "    </tr>\n",
              "    <tr>\n",
              "      <th>3</th>\n",
              "      <td>4</td>\n",
              "      <td>Boise State</td>\n",
              "      <td>465</td>\n",
              "      <td>172</td>\n",
              "      <td>2</td>\n",
              "      <td>0.729</td>\n",
              "      <td>52</td>\n",
              "      <td>639</td>\n",
              "      <td>Mountain West</td>\n",
              "    </tr>\n",
              "    <tr>\n",
              "      <th>4</th>\n",
              "      <td>5</td>\n",
              "      <td>Michigan</td>\n",
              "      <td>964</td>\n",
              "      <td>350</td>\n",
              "      <td>36</td>\n",
              "      <td>0.727</td>\n",
              "      <td>140</td>\n",
              "      <td>1350</td>\n",
              "      <td>Big Ten</td>\n",
              "    </tr>\n",
              "  </tbody>\n",
              "</table>\n",
              "</div>"
            ],
            "text/plain": [
              "   Rank       School  Won  Lost  Tied   Pct.  Years  Total Games     Conference\n",
              "0     1   Ohio State  931   327    53  0.730    130         1311        Big Ten\n",
              "1     2      Alabama  929   331    43  0.729    125         1303            SEC\n",
              "2     3  Notre Dame   918   328    42  0.729    130         1288    Independent\n",
              "3     4  Boise State  465   172     2  0.729     52          639  Mountain West\n",
              "4     5     Michigan  964   350    36  0.727    140         1350        Big Ten"
            ]
          },
          "metadata": {
            "tags": []
          },
          "execution_count": 307
        }
      ]
    },
    {
      "cell_type": "code",
      "metadata": {
        "id": "ABxEaWlmqp3R",
        "colab": {
          "base_uri": "https://localhost:8080/",
          "height": 203
        },
        "outputId": "7b87713f-431a-4cd3-f372-cc32e29645a8"
      },
      "source": [
        "Gradrates = pd.read_csv('/content/drive/My Drive/Colab Notebooks/Gradrates.csv')\n",
        "\n",
        "Gradrates['Conference']=Gradrates['Conference'].replace({'American Ahtletic Conference': 'AAC'})\n",
        "Gradrates['Conference']=Gradrates['Conference'].replace({'Atlantic Coast Conference': 'ACC'})\n",
        "Gradrates['Conference']=Gradrates['Conference'].replace({'Southeastern Conference': 'SEC'})\n",
        "Gradrates['Conference']=Gradrates['Conference'].replace({'Big 12 Conference': 'Big 12'})\n",
        "Gradrates['Conference']=Gradrates['Conference'].replace({'Mountain West Conference': 'Mt. West'})\n",
        "Gradrates['Conference']=Gradrates['Conference'].replace({'Sun Belt Conference': 'Sun Belt'})\n",
        "Gradrates['Conference']=Gradrates['Conference'].replace({'Conference USA': 'C-USA'})\n",
        "Gradrates['Conference']=Gradrates['Conference'].replace({'Big Ten Conference': 'Big Ten'})\n",
        "Gradrates['Conference']=Gradrates['Conference'].replace({'Independent': 'Ind.'})\n",
        "Gradrates['Conference']=Gradrates['Conference'].replace({'Mid-American Conference': 'MAC'})\n",
        "Gradrates['Conference']=Gradrates['Conference'].replace({'Pac-12 Conference': 'Pac-12'})\n",
        "\n",
        "\n",
        "Gradrates.head()\n",
        "\n"
      ],
      "execution_count": 308,
      "outputs": [
        {
          "output_type": "execute_result",
          "data": {
            "text/html": [
              "<div>\n",
              "<style scoped>\n",
              "    .dataframe tbody tr th:only-of-type {\n",
              "        vertical-align: middle;\n",
              "    }\n",
              "\n",
              "    .dataframe tbody tr th {\n",
              "        vertical-align: top;\n",
              "    }\n",
              "\n",
              "    .dataframe thead th {\n",
              "        text-align: right;\n",
              "    }\n",
              "</style>\n",
              "<table border=\"1\" class=\"dataframe\">\n",
              "  <thead>\n",
              "    <tr style=\"text-align: right;\">\n",
              "      <th></th>\n",
              "      <th>Cohort Year</th>\n",
              "      <th>School</th>\n",
              "      <th>Conference</th>\n",
              "      <th>Sport</th>\n",
              "      <th>State</th>\n",
              "      <th>GSR</th>\n",
              "      <th>GSR_rate</th>\n",
              "      <th>FGR</th>\n",
              "      <th>FGR_rate</th>\n",
              "    </tr>\n",
              "  </thead>\n",
              "  <tbody>\n",
              "    <tr>\n",
              "      <th>0</th>\n",
              "      <td>2012</td>\n",
              "      <td>Abilene Christian University</td>\n",
              "      <td>Southland Conference</td>\n",
              "      <td>Football</td>\n",
              "      <td>TX</td>\n",
              "      <td>70</td>\n",
              "      <td>1</td>\n",
              "      <td>47.0</td>\n",
              "      <td>0</td>\n",
              "    </tr>\n",
              "    <tr>\n",
              "      <th>1</th>\n",
              "      <td>2012</td>\n",
              "      <td>University of Akron</td>\n",
              "      <td>MAC</td>\n",
              "      <td>Football</td>\n",
              "      <td>OH</td>\n",
              "      <td>75</td>\n",
              "      <td>1</td>\n",
              "      <td>61.0</td>\n",
              "      <td>1</td>\n",
              "    </tr>\n",
              "    <tr>\n",
              "      <th>2</th>\n",
              "      <td>2012</td>\n",
              "      <td>Alabama A&amp;M University</td>\n",
              "      <td>Southwestern Athletic Conf.</td>\n",
              "      <td>Football</td>\n",
              "      <td>AL</td>\n",
              "      <td>59</td>\n",
              "      <td>0</td>\n",
              "      <td>49.0</td>\n",
              "      <td>0</td>\n",
              "    </tr>\n",
              "    <tr>\n",
              "      <th>3</th>\n",
              "      <td>2012</td>\n",
              "      <td>Alabama State University</td>\n",
              "      <td>Southwestern Athletic Conf.</td>\n",
              "      <td>Football</td>\n",
              "      <td>AL</td>\n",
              "      <td>58</td>\n",
              "      <td>0</td>\n",
              "      <td>39.0</td>\n",
              "      <td>0</td>\n",
              "    </tr>\n",
              "    <tr>\n",
              "      <th>4</th>\n",
              "      <td>2012</td>\n",
              "      <td>University of Alabama</td>\n",
              "      <td>SEC</td>\n",
              "      <td>Football</td>\n",
              "      <td>AL</td>\n",
              "      <td>85</td>\n",
              "      <td>1</td>\n",
              "      <td>65.0</td>\n",
              "      <td>1</td>\n",
              "    </tr>\n",
              "  </tbody>\n",
              "</table>\n",
              "</div>"
            ],
            "text/plain": [
              "   Cohort Year                        School  ...   FGR FGR_rate\n",
              "0         2012  Abilene Christian University  ...  47.0        0\n",
              "1         2012           University of Akron  ...  61.0        1\n",
              "2         2012        Alabama A&M University  ...  49.0        0\n",
              "3         2012      Alabama State University  ...  39.0        0\n",
              "4         2012         University of Alabama  ...  65.0        1\n",
              "\n",
              "[5 rows x 9 columns]"
            ]
          },
          "metadata": {
            "tags": []
          },
          "execution_count": 308
        }
      ]
    },
    {
      "cell_type": "code",
      "metadata": {
        "colab": {
          "base_uri": "https://localhost:8080/"
        },
        "id": "oRj8MGNw1Hh5",
        "outputId": "44d10a6d-4e5f-4f1d-df35-f47dea3e73ab"
      },
      "source": [
        "Revenue1 = pd.read_csv('/content/drive/My Drive/Colab Notebooks/Revenue.csv')\n",
        "\n",
        "\n",
        "\n",
        "Revenue1['REVENUES'] = Revenue1['REVENUES'].str.replace(',', '')\n",
        "Revenue1['REVENUES'] = pd.to_numeric(Revenue1['REVENUES'], errors='raise')\n",
        "\n",
        "\n",
        "Revenue1=Revenue1.rename(columns = {\"SCHOOL\":\"School\"})\n",
        "Revenue1=Revenue1.rename(columns = {\"Conference\":\"Conf\"})\n",
        "Revenue1=Revenue1.rename(columns = {\"REVENUES\":\"Total Revenue\"})\n",
        "\n",
        "del Revenue1['2018 VALUE']\n",
        "del Revenue1['RANK']\n",
        "\n",
        "\n",
        "Revenue1.info()\n"
      ],
      "execution_count": 309,
      "outputs": [
        {
          "output_type": "stream",
          "text": [
            "<class 'pandas.core.frame.DataFrame'>\n",
            "RangeIndex: 114 entries, 0 to 113\n",
            "Data columns (total 3 columns):\n",
            " #   Column         Non-Null Count  Dtype \n",
            "---  ------         --------------  ----- \n",
            " 0   School         114 non-null    object\n",
            " 1   Conf           114 non-null    object\n",
            " 2   Total Revenue  114 non-null    int64 \n",
            "dtypes: int64(1), object(2)\n",
            "memory usage: 2.8+ KB\n"
          ],
          "name": "stdout"
        }
      ]
    },
    {
      "cell_type": "code",
      "metadata": {
        "id": "FEpSvNLSFZA6",
        "colab": {
          "base_uri": "https://localhost:8080/"
        },
        "outputId": "7b4f1e06-472a-4b02-92e7-b07ee9304a84"
      },
      "source": [
        "from pandas.io.html import read_html\n",
        "page= 'https://sports.usatoday.com/ncaa/finances'\n",
        "Revenue = pd.read_html(page, index_col=0, attrs ={\"class\":\"datatable datatable-finances fixed-column\"}, header=0)[0]\n",
        "Revenue.drop(Revenue.tail(1).index,inplace=True)\n",
        "\n",
        "\n",
        "\n",
        "Revenue['Total Revenue'] = Revenue['Total Revenue'].str.replace(',', '')\n",
        "Revenue['Total Revenue'] = Revenue['Total Revenue'].str.replace('$', '')\n",
        "Revenue['Total Revenue'] = Revenue['Total Revenue'].str.replace('--', '')\n",
        "Revenue['Total Revenue'] = pd.to_numeric(Revenue['Total Revenue'], errors='raise')\n",
        "\n",
        "Revenue['Total Expenses'] = Revenue['Total Expenses'].str.replace(',', '')\n",
        "Revenue['Total Expenses'] = Revenue['Total Expenses'].str.replace('$', '')\n",
        "Revenue['Total Expenses'] = Revenue['Total Expenses'].str.replace('--', '')\n",
        "Revenue['Total Expenses'] = pd.to_numeric(Revenue['Total Expenses'],errors='raise')\n",
        "\n",
        "del Revenue['Total Allocated']\n",
        "del Revenue['% Allocated']\n",
        "\n",
        "\n",
        "Rev=Revenue.append(Revenue1)\n",
        "\n",
        "Rev.drop_duplicates(subset=['School'],keep='first',inplace=True)\n",
        "\n",
        "\n",
        "Rev.info()\n",
        "\n",
        "\n"
      ],
      "execution_count": 310,
      "outputs": [
        {
          "output_type": "stream",
          "text": [
            "<class 'pandas.core.frame.DataFrame'>\n",
            "Index: 253 entries, 1 to 113\n",
            "Data columns (total 4 columns):\n",
            " #   Column          Non-Null Count  Dtype  \n",
            "---  ------          --------------  -----  \n",
            " 0   School          253 non-null    object \n",
            " 1   Conf            253 non-null    object \n",
            " 2   Total Revenue   253 non-null    int64  \n",
            " 3   Total Expenses  227 non-null    float64\n",
            "dtypes: float64(1), int64(1), object(2)\n",
            "memory usage: 9.9+ KB\n"
          ],
          "name": "stdout"
        }
      ]
    },
    {
      "cell_type": "code",
      "metadata": {
        "id": "vX8YC_iuK3dW",
        "colab": {
          "base_uri": "https://localhost:8080/"
        },
        "outputId": "f96c444c-4528-4a6e-d074-38e2ca89f1be"
      },
      "source": [
        "left_on = [\"School\", \"Conference\"]\n",
        "right_on = [\"School\", \"Conf\"]\n",
        "\n",
        "dfjoined = fuzzymatcher.fuzzy_left_join(coaches,Rev, left_on, right_on) #Merge on School and Conference\n",
        "dfjoined.sort_values(by='best_match_score', ascending = False)\n",
        "\n",
        "  \n",
        "dfjoined = dfjoined[dfjoined['best_match_score'] > 0.10]\n",
        "\n",
        "\n",
        "\n",
        "dfjoined.rename(columns = {\"School_left\":\"School\"})\n",
        "dfjoined.info()"
      ],
      "execution_count": 311,
      "outputs": [
        {
          "output_type": "stream",
          "text": [
            "<class 'pandas.core.frame.DataFrame'>\n",
            "Int64Index: 117 entries, 0 to 179\n",
            "Data columns (total 16 columns):\n",
            " #   Column            Non-Null Count  Dtype  \n",
            "---  ------            --------------  -----  \n",
            " 0   best_match_score  117 non-null    float64\n",
            " 1   __id_left         117 non-null    object \n",
            " 2   __id_right        117 non-null    object \n",
            " 3   School_left       117 non-null    object \n",
            " 4   Conference        117 non-null    object \n",
            " 5   Coach             117 non-null    object \n",
            " 6   SchoolPay         117 non-null    float64\n",
            " 7   TotalPay          117 non-null    float64\n",
            " 8   Bonus             117 non-null    float64\n",
            " 9   BonusPaid         117 non-null    float64\n",
            " 10  AssistantPay      117 non-null    int64  \n",
            " 11  Buyout            117 non-null    float64\n",
            " 12  School_right      117 non-null    object \n",
            " 13  Conf              117 non-null    object \n",
            " 14  Total Revenue     117 non-null    float64\n",
            " 15  Total Expenses    106 non-null    float64\n",
            "dtypes: float64(8), int64(1), object(7)\n",
            "memory usage: 15.5+ KB\n"
          ],
          "name": "stdout"
        }
      ]
    },
    {
      "cell_type": "code",
      "metadata": {
        "id": "S9jY5atRHXHE",
        "colab": {
          "base_uri": "https://localhost:8080/",
          "height": 324
        },
        "outputId": "80db30f5-c7aa-49fd-9a50-a3f4027d0a72"
      },
      "source": [
        "dfjoined=dfjoined.rename(columns = {\"School_left\":\"School\"})\n",
        "dfjoined.head()"
      ],
      "execution_count": 312,
      "outputs": [
        {
          "output_type": "execute_result",
          "data": {
            "text/html": [
              "<div>\n",
              "<style scoped>\n",
              "    .dataframe tbody tr th:only-of-type {\n",
              "        vertical-align: middle;\n",
              "    }\n",
              "\n",
              "    .dataframe tbody tr th {\n",
              "        vertical-align: top;\n",
              "    }\n",
              "\n",
              "    .dataframe thead th {\n",
              "        text-align: right;\n",
              "    }\n",
              "</style>\n",
              "<table border=\"1\" class=\"dataframe\">\n",
              "  <thead>\n",
              "    <tr style=\"text-align: right;\">\n",
              "      <th></th>\n",
              "      <th>best_match_score</th>\n",
              "      <th>__id_left</th>\n",
              "      <th>__id_right</th>\n",
              "      <th>School</th>\n",
              "      <th>Conference</th>\n",
              "      <th>Coach</th>\n",
              "      <th>SchoolPay</th>\n",
              "      <th>TotalPay</th>\n",
              "      <th>Bonus</th>\n",
              "      <th>BonusPaid</th>\n",
              "      <th>AssistantPay</th>\n",
              "      <th>Buyout</th>\n",
              "      <th>School_right</th>\n",
              "      <th>Conf</th>\n",
              "      <th>Total Revenue</th>\n",
              "      <th>Total Expenses</th>\n",
              "    </tr>\n",
              "  </thead>\n",
              "  <tbody>\n",
              "    <tr>\n",
              "      <th>0</th>\n",
              "      <td>0.591582</td>\n",
              "      <td>0_left</td>\n",
              "      <td>56_right</td>\n",
              "      <td>Air Force</td>\n",
              "      <td>Mt. West</td>\n",
              "      <td>Troy Calhoun</td>\n",
              "      <td>885000.0</td>\n",
              "      <td>885000.0</td>\n",
              "      <td>247000.0</td>\n",
              "      <td>0.0</td>\n",
              "      <td>0</td>\n",
              "      <td>0.0</td>\n",
              "      <td>Air Force</td>\n",
              "      <td>Mt. West</td>\n",
              "      <td>60009782.0</td>\n",
              "      <td>54192115.0</td>\n",
              "    </tr>\n",
              "    <tr>\n",
              "      <th>1</th>\n",
              "      <td>0.273403</td>\n",
              "      <td>1_left</td>\n",
              "      <td>83_right</td>\n",
              "      <td>Akron</td>\n",
              "      <td>MAC</td>\n",
              "      <td>Terry Bowden</td>\n",
              "      <td>411000.0</td>\n",
              "      <td>412500.0</td>\n",
              "      <td>225000.0</td>\n",
              "      <td>50000.0</td>\n",
              "      <td>0</td>\n",
              "      <td>688500.0</td>\n",
              "      <td>Akron</td>\n",
              "      <td>MAC</td>\n",
              "      <td>37194485.0</td>\n",
              "      <td>37275978.0</td>\n",
              "    </tr>\n",
              "    <tr>\n",
              "      <th>2</th>\n",
              "      <td>0.224893</td>\n",
              "      <td>2_left</td>\n",
              "      <td>6_right</td>\n",
              "      <td>Alabama</td>\n",
              "      <td>SEC</td>\n",
              "      <td>Nick Saban</td>\n",
              "      <td>8307000.0</td>\n",
              "      <td>8307000.0</td>\n",
              "      <td>1100000.0</td>\n",
              "      <td>500000.0</td>\n",
              "      <td>0</td>\n",
              "      <td>33600000.0</td>\n",
              "      <td>Alabama</td>\n",
              "      <td>SEC</td>\n",
              "      <td>164090889.0</td>\n",
              "      <td>185317681.0</td>\n",
              "    </tr>\n",
              "    <tr>\n",
              "      <th>3</th>\n",
              "      <td>0.674796</td>\n",
              "      <td>3_left</td>\n",
              "      <td>85_right</td>\n",
              "      <td>Alabama at Birmingham</td>\n",
              "      <td>C-USA</td>\n",
              "      <td>Bill Clark</td>\n",
              "      <td>900000.0</td>\n",
              "      <td>900000.0</td>\n",
              "      <td>950000.0</td>\n",
              "      <td>165471.0</td>\n",
              "      <td>0</td>\n",
              "      <td>3847500.0</td>\n",
              "      <td>Alabama at Birmingham</td>\n",
              "      <td>C-USA</td>\n",
              "      <td>36494381.0</td>\n",
              "      <td>35697117.0</td>\n",
              "    </tr>\n",
              "    <tr>\n",
              "      <th>4</th>\n",
              "      <td>0.430059</td>\n",
              "      <td>4_left</td>\n",
              "      <td>80_right</td>\n",
              "      <td>Appalachian State</td>\n",
              "      <td>Sun Belt</td>\n",
              "      <td>Scott Satterfield</td>\n",
              "      <td>712500.0</td>\n",
              "      <td>712500.0</td>\n",
              "      <td>295000.0</td>\n",
              "      <td>145000.0</td>\n",
              "      <td>0</td>\n",
              "      <td>2160417.0</td>\n",
              "      <td>Appalachian State</td>\n",
              "      <td>Sun Belt</td>\n",
              "      <td>37996512.0</td>\n",
              "      <td>37773447.0</td>\n",
              "    </tr>\n",
              "  </tbody>\n",
              "</table>\n",
              "</div>"
            ],
            "text/plain": [
              "   best_match_score __id_left  ... Total Revenue Total Expenses\n",
              "0          0.591582    0_left  ...    60009782.0     54192115.0\n",
              "1          0.273403    1_left  ...    37194485.0     37275978.0\n",
              "2          0.224893    2_left  ...   164090889.0    185317681.0\n",
              "3          0.674796    3_left  ...    36494381.0     35697117.0\n",
              "4          0.430059    4_left  ...    37996512.0     37773447.0\n",
              "\n",
              "[5 rows x 16 columns]"
            ]
          },
          "metadata": {
            "tags": []
          },
          "execution_count": 312
        }
      ]
    },
    {
      "cell_type": "code",
      "metadata": {
        "id": "HoDawOsQatCG"
      },
      "source": [
        "del dfjoined['best_match_score']\n",
        "del dfjoined['__id_left']\n",
        "del dfjoined['__id_right']\n",
        "\n",
        "\n",
        "\n"
      ],
      "execution_count": 313,
      "outputs": []
    },
    {
      "cell_type": "code",
      "metadata": {
        "id": "D6ufy7OaEtRk"
      },
      "source": [
        "dfjoined.rename(columns = {\"School_left\":\"School\"})\n",
        "\n",
        "left_on = [\"School\", \"Conference\"]\n",
        "right_on = [\"School\", \"Conference\"]\n",
        "\n",
        "dfjoined2 = fuzzymatcher.fuzzy_left_join(dfjoined,WL, left_on, right_on) #Merge on School and Conference\n",
        "\n",
        "dfjoined2 = dfjoined2[dfjoined2['best_match_score'] > 0.10 ]\n",
        "dfjoined2\n",
        "\n",
        "del dfjoined2['best_match_score']\n",
        "del dfjoined2['__id_left']\n",
        "del dfjoined2['__id_right']"
      ],
      "execution_count": 314,
      "outputs": []
    },
    {
      "cell_type": "code",
      "metadata": {
        "id": "5g-2zO9PId9R",
        "colab": {
          "base_uri": "https://localhost:8080/",
          "height": 689
        },
        "outputId": "2fd15a7a-5b22-472d-b224-efadda43ed00"
      },
      "source": [
        "dfjoined2=dfjoined2.rename(columns = {\"School_left\":\"School\"})\n",
        "dfjoined2=dfjoined2.rename(columns = {\"Conference_left\":\"Conference\"})\n",
        "left_on = [\"School\", \"Conference\"]\n",
        "right_on = [\"School\", \"Conference\"]\n",
        "\n",
        "dfjoined3 = fuzzymatcher.fuzzy_left_join(dfjoined2,Gradrates, left_on, right_on) #Merge on School and Conference\n",
        "dfjoined3 = dfjoined3[dfjoined3['best_match_score'] > 0.10 ]\n",
        "dfjoined3"
      ],
      "execution_count": 315,
      "outputs": [
        {
          "output_type": "execute_result",
          "data": {
            "text/html": [
              "<div>\n",
              "<style scoped>\n",
              "    .dataframe tbody tr th:only-of-type {\n",
              "        vertical-align: middle;\n",
              "    }\n",
              "\n",
              "    .dataframe tbody tr th {\n",
              "        vertical-align: top;\n",
              "    }\n",
              "\n",
              "    .dataframe thead th {\n",
              "        text-align: right;\n",
              "    }\n",
              "</style>\n",
              "<table border=\"1\" class=\"dataframe\">\n",
              "  <thead>\n",
              "    <tr style=\"text-align: right;\">\n",
              "      <th></th>\n",
              "      <th>best_match_score</th>\n",
              "      <th>__id_left</th>\n",
              "      <th>__id_right</th>\n",
              "      <th>School_left</th>\n",
              "      <th>Conference_left</th>\n",
              "      <th>Coach</th>\n",
              "      <th>SchoolPay</th>\n",
              "      <th>TotalPay</th>\n",
              "      <th>Bonus</th>\n",
              "      <th>BonusPaid</th>\n",
              "      <th>AssistantPay</th>\n",
              "      <th>Buyout</th>\n",
              "      <th>School_right</th>\n",
              "      <th>School_right</th>\n",
              "      <th>School_right</th>\n",
              "      <th>School_right</th>\n",
              "      <th>School_right</th>\n",
              "      <th>School_right</th>\n",
              "      <th>School_right</th>\n",
              "      <th>School_right</th>\n",
              "      <th>School_right</th>\n",
              "      <th>School_right</th>\n",
              "      <th>Conf</th>\n",
              "      <th>Total Revenue</th>\n",
              "      <th>Total Expenses</th>\n",
              "      <th>Rank</th>\n",
              "      <th>School_right</th>\n",
              "      <th>School_right</th>\n",
              "      <th>School_right</th>\n",
              "      <th>School_right</th>\n",
              "      <th>School_right</th>\n",
              "      <th>School_right</th>\n",
              "      <th>School_right</th>\n",
              "      <th>School_right</th>\n",
              "      <th>School_right</th>\n",
              "      <th>School_right</th>\n",
              "      <th>Won</th>\n",
              "      <th>Lost</th>\n",
              "      <th>Tied</th>\n",
              "      <th>Pct.</th>\n",
              "      <th>Years</th>\n",
              "      <th>Total Games</th>\n",
              "      <th>Conference_right</th>\n",
              "      <th>Conference_right</th>\n",
              "      <th>Cohort Year</th>\n",
              "      <th>School_right</th>\n",
              "      <th>School_right</th>\n",
              "      <th>School_right</th>\n",
              "      <th>School_right</th>\n",
              "      <th>School_right</th>\n",
              "      <th>Conference_right</th>\n",
              "      <th>Conference_right</th>\n",
              "      <th>Sport</th>\n",
              "      <th>State</th>\n",
              "      <th>GSR</th>\n",
              "      <th>GSR_rate</th>\n",
              "      <th>FGR</th>\n",
              "      <th>FGR_rate</th>\n",
              "    </tr>\n",
              "  </thead>\n",
              "  <tbody>\n",
              "    <tr>\n",
              "      <th>0</th>\n",
              "      <td>0.427329</td>\n",
              "      <td>0_left</td>\n",
              "      <td>218_right</td>\n",
              "      <td>Air Force</td>\n",
              "      <td>Mt. West</td>\n",
              "      <td>Troy Calhoun</td>\n",
              "      <td>885000.0</td>\n",
              "      <td>885000.0</td>\n",
              "      <td>247000.0</td>\n",
              "      <td>0.0</td>\n",
              "      <td>0</td>\n",
              "      <td>0.0</td>\n",
              "      <td>Air Force</td>\n",
              "      <td>Air Force</td>\n",
              "      <td>Air Force</td>\n",
              "      <td>Air Force</td>\n",
              "      <td>U.S. Air Force Academy</td>\n",
              "      <td>Air Force</td>\n",
              "      <td>Air Force</td>\n",
              "      <td>Air Force</td>\n",
              "      <td>Air Force</td>\n",
              "      <td>U.S. Air Force Academy</td>\n",
              "      <td>Mt. West</td>\n",
              "      <td>60009782.0</td>\n",
              "      <td>54192115.0</td>\n",
              "      <td>64.0</td>\n",
              "      <td>Air Force</td>\n",
              "      <td>Air Force</td>\n",
              "      <td>Air Force</td>\n",
              "      <td>Air Force</td>\n",
              "      <td>U.S. Air Force Academy</td>\n",
              "      <td>Air Force</td>\n",
              "      <td>Air Force</td>\n",
              "      <td>Air Force</td>\n",
              "      <td>Air Force</td>\n",
              "      <td>U.S. Air Force Academy</td>\n",
              "      <td>404.0</td>\n",
              "      <td>332.0</td>\n",
              "      <td>13.0</td>\n",
              "      <td>0.548</td>\n",
              "      <td>64.0</td>\n",
              "      <td>749.0</td>\n",
              "      <td>Mountain West</td>\n",
              "      <td>Mt. West</td>\n",
              "      <td>2012</td>\n",
              "      <td>Air Force</td>\n",
              "      <td>Air Force</td>\n",
              "      <td>Air Force</td>\n",
              "      <td>Air Force</td>\n",
              "      <td>U.S. Air Force Academy</td>\n",
              "      <td>Mountain West</td>\n",
              "      <td>Mt. West</td>\n",
              "      <td>Football</td>\n",
              "      <td>CO</td>\n",
              "      <td>80</td>\n",
              "      <td>1</td>\n",
              "      <td>NaN</td>\n",
              "      <td>0</td>\n",
              "    </tr>\n",
              "    <tr>\n",
              "      <th>1</th>\n",
              "      <td>0.259051</td>\n",
              "      <td>1_left</td>\n",
              "      <td>1_right</td>\n",
              "      <td>Akron</td>\n",
              "      <td>MAC</td>\n",
              "      <td>Terry Bowden</td>\n",
              "      <td>411000.0</td>\n",
              "      <td>412500.0</td>\n",
              "      <td>225000.0</td>\n",
              "      <td>50000.0</td>\n",
              "      <td>0</td>\n",
              "      <td>688500.0</td>\n",
              "      <td>Akron</td>\n",
              "      <td>Akron</td>\n",
              "      <td>Akron</td>\n",
              "      <td>Akron</td>\n",
              "      <td>University of Akron</td>\n",
              "      <td>Akron</td>\n",
              "      <td>Akron</td>\n",
              "      <td>Akron</td>\n",
              "      <td>Akron</td>\n",
              "      <td>University of Akron</td>\n",
              "      <td>MAC</td>\n",
              "      <td>37194485.0</td>\n",
              "      <td>37275978.0</td>\n",
              "      <td>101.0</td>\n",
              "      <td>Akron</td>\n",
              "      <td>Akron</td>\n",
              "      <td>Akron</td>\n",
              "      <td>Akron</td>\n",
              "      <td>University of Akron</td>\n",
              "      <td>Akron</td>\n",
              "      <td>Akron</td>\n",
              "      <td>Akron</td>\n",
              "      <td>Akron</td>\n",
              "      <td>University of Akron</td>\n",
              "      <td>524.0</td>\n",
              "      <td>563.0</td>\n",
              "      <td>36.0</td>\n",
              "      <td>0.483</td>\n",
              "      <td>119.0</td>\n",
              "      <td>1123.0</td>\n",
              "      <td>MAC</td>\n",
              "      <td>MAC</td>\n",
              "      <td>2012</td>\n",
              "      <td>Akron</td>\n",
              "      <td>Akron</td>\n",
              "      <td>Akron</td>\n",
              "      <td>Akron</td>\n",
              "      <td>University of Akron</td>\n",
              "      <td>MAC</td>\n",
              "      <td>MAC</td>\n",
              "      <td>Football</td>\n",
              "      <td>OH</td>\n",
              "      <td>75</td>\n",
              "      <td>1</td>\n",
              "      <td>61.0</td>\n",
              "      <td>1</td>\n",
              "    </tr>\n",
              "    <tr>\n",
              "      <th>2</th>\n",
              "      <td>0.193203</td>\n",
              "      <td>2_left</td>\n",
              "      <td>4_right</td>\n",
              "      <td>Alabama</td>\n",
              "      <td>SEC</td>\n",
              "      <td>Nick Saban</td>\n",
              "      <td>8307000.0</td>\n",
              "      <td>8307000.0</td>\n",
              "      <td>1100000.0</td>\n",
              "      <td>500000.0</td>\n",
              "      <td>0</td>\n",
              "      <td>33600000.0</td>\n",
              "      <td>Alabama</td>\n",
              "      <td>Alabama</td>\n",
              "      <td>Alabama</td>\n",
              "      <td>Alabama</td>\n",
              "      <td>University of Alabama</td>\n",
              "      <td>Alabama</td>\n",
              "      <td>Alabama</td>\n",
              "      <td>Alabama</td>\n",
              "      <td>Alabama</td>\n",
              "      <td>University of Alabama</td>\n",
              "      <td>SEC</td>\n",
              "      <td>164090889.0</td>\n",
              "      <td>185317681.0</td>\n",
              "      <td>2.0</td>\n",
              "      <td>Alabama</td>\n",
              "      <td>Alabama</td>\n",
              "      <td>Alabama</td>\n",
              "      <td>Alabama</td>\n",
              "      <td>University of Alabama</td>\n",
              "      <td>Alabama</td>\n",
              "      <td>Alabama</td>\n",
              "      <td>Alabama</td>\n",
              "      <td>Alabama</td>\n",
              "      <td>University of Alabama</td>\n",
              "      <td>929.0</td>\n",
              "      <td>331.0</td>\n",
              "      <td>43.0</td>\n",
              "      <td>0.729</td>\n",
              "      <td>125.0</td>\n",
              "      <td>1303.0</td>\n",
              "      <td>SEC</td>\n",
              "      <td>SEC</td>\n",
              "      <td>2012</td>\n",
              "      <td>Alabama</td>\n",
              "      <td>Alabama</td>\n",
              "      <td>Alabama</td>\n",
              "      <td>Alabama</td>\n",
              "      <td>University of Alabama</td>\n",
              "      <td>SEC</td>\n",
              "      <td>SEC</td>\n",
              "      <td>Football</td>\n",
              "      <td>AL</td>\n",
              "      <td>85</td>\n",
              "      <td>1</td>\n",
              "      <td>65.0</td>\n",
              "      <td>1</td>\n",
              "    </tr>\n",
              "    <tr>\n",
              "      <th>3</th>\n",
              "      <td>0.492675</td>\n",
              "      <td>3_left</td>\n",
              "      <td>8_right</td>\n",
              "      <td>Appalachian State</td>\n",
              "      <td>Sun Belt</td>\n",
              "      <td>Scott Satterfield</td>\n",
              "      <td>712500.0</td>\n",
              "      <td>712500.0</td>\n",
              "      <td>295000.0</td>\n",
              "      <td>145000.0</td>\n",
              "      <td>0</td>\n",
              "      <td>2160417.0</td>\n",
              "      <td>Appalachian State</td>\n",
              "      <td>Appalachian State</td>\n",
              "      <td>Appalachian State</td>\n",
              "      <td>Appalachian State</td>\n",
              "      <td>Appalachian State University</td>\n",
              "      <td>Appalachian State</td>\n",
              "      <td>Appalachian State</td>\n",
              "      <td>Appalachian State</td>\n",
              "      <td>Appalachian State</td>\n",
              "      <td>Appalachian State University</td>\n",
              "      <td>Sun Belt</td>\n",
              "      <td>37996512.0</td>\n",
              "      <td>37773447.0</td>\n",
              "      <td>15.0</td>\n",
              "      <td>Appalachian State</td>\n",
              "      <td>Appalachian State</td>\n",
              "      <td>Appalachian State</td>\n",
              "      <td>Appalachian State</td>\n",
              "      <td>Appalachian State University</td>\n",
              "      <td>Appalachian State</td>\n",
              "      <td>Appalachian State</td>\n",
              "      <td>Appalachian State</td>\n",
              "      <td>Appalachian State</td>\n",
              "      <td>Appalachian State University</td>\n",
              "      <td>639.0</td>\n",
              "      <td>339.0</td>\n",
              "      <td>29.0</td>\n",
              "      <td>0.649</td>\n",
              "      <td>90.0</td>\n",
              "      <td>1007.0</td>\n",
              "      <td>Sun Belt</td>\n",
              "      <td>Sun Belt</td>\n",
              "      <td>2012</td>\n",
              "      <td>Appalachian State</td>\n",
              "      <td>Appalachian State</td>\n",
              "      <td>Appalachian State</td>\n",
              "      <td>Appalachian State</td>\n",
              "      <td>Appalachian State University</td>\n",
              "      <td>Sun Belt</td>\n",
              "      <td>Sun Belt</td>\n",
              "      <td>Football</td>\n",
              "      <td>NC</td>\n",
              "      <td>75</td>\n",
              "      <td>1</td>\n",
              "      <td>67.0</td>\n",
              "      <td>1</td>\n",
              "    </tr>\n",
              "    <tr>\n",
              "      <th>4</th>\n",
              "      <td>0.252369</td>\n",
              "      <td>4_left</td>\n",
              "      <td>10_right</td>\n",
              "      <td>Arizona</td>\n",
              "      <td>Pac-12</td>\n",
              "      <td>Kevin Sumlin</td>\n",
              "      <td>1600000.0</td>\n",
              "      <td>2000000.0</td>\n",
              "      <td>2025000.0</td>\n",
              "      <td>0.0</td>\n",
              "      <td>0</td>\n",
              "      <td>10000000.0</td>\n",
              "      <td>Arizona</td>\n",
              "      <td>Arizona</td>\n",
              "      <td>Arizona</td>\n",
              "      <td>Arizona</td>\n",
              "      <td>University of Arizona</td>\n",
              "      <td>Arizona</td>\n",
              "      <td>Arizona</td>\n",
              "      <td>Arizona</td>\n",
              "      <td>Arizona</td>\n",
              "      <td>University of Arizona</td>\n",
              "      <td>Pac-12</td>\n",
              "      <td>105091389.0</td>\n",
              "      <td>100565835.0</td>\n",
              "      <td>53.0</td>\n",
              "      <td>Arizona</td>\n",
              "      <td>Arizona</td>\n",
              "      <td>Arizona</td>\n",
              "      <td>Arizona</td>\n",
              "      <td>University of Arizona</td>\n",
              "      <td>Arizona</td>\n",
              "      <td>Arizona</td>\n",
              "      <td>Arizona</td>\n",
              "      <td>Arizona</td>\n",
              "      <td>University of Arizona</td>\n",
              "      <td>617.0</td>\n",
              "      <td>478.0</td>\n",
              "      <td>33.0</td>\n",
              "      <td>0.562</td>\n",
              "      <td>116.0</td>\n",
              "      <td>1128.0</td>\n",
              "      <td>Pac-12</td>\n",
              "      <td>Pac-12</td>\n",
              "      <td>2012</td>\n",
              "      <td>Arizona</td>\n",
              "      <td>Arizona</td>\n",
              "      <td>Arizona</td>\n",
              "      <td>Arizona</td>\n",
              "      <td>University of Arizona</td>\n",
              "      <td>Pac-12</td>\n",
              "      <td>Pac-12</td>\n",
              "      <td>Football</td>\n",
              "      <td>AZ</td>\n",
              "      <td>76</td>\n",
              "      <td>1</td>\n",
              "      <td>58.0</td>\n",
              "      <td>0</td>\n",
              "    </tr>\n",
              "    <tr>\n",
              "      <th>...</th>\n",
              "      <td>...</td>\n",
              "      <td>...</td>\n",
              "      <td>...</td>\n",
              "      <td>...</td>\n",
              "      <td>...</td>\n",
              "      <td>...</td>\n",
              "      <td>...</td>\n",
              "      <td>...</td>\n",
              "      <td>...</td>\n",
              "      <td>...</td>\n",
              "      <td>...</td>\n",
              "      <td>...</td>\n",
              "      <td>...</td>\n",
              "      <td>...</td>\n",
              "      <td>...</td>\n",
              "      <td>...</td>\n",
              "      <td>...</td>\n",
              "      <td>...</td>\n",
              "      <td>...</td>\n",
              "      <td>...</td>\n",
              "      <td>...</td>\n",
              "      <td>...</td>\n",
              "      <td>...</td>\n",
              "      <td>...</td>\n",
              "      <td>...</td>\n",
              "      <td>...</td>\n",
              "      <td>...</td>\n",
              "      <td>...</td>\n",
              "      <td>...</td>\n",
              "      <td>...</td>\n",
              "      <td>...</td>\n",
              "      <td>...</td>\n",
              "      <td>...</td>\n",
              "      <td>...</td>\n",
              "      <td>...</td>\n",
              "      <td>...</td>\n",
              "      <td>...</td>\n",
              "      <td>...</td>\n",
              "      <td>...</td>\n",
              "      <td>...</td>\n",
              "      <td>...</td>\n",
              "      <td>...</td>\n",
              "      <td>...</td>\n",
              "      <td>...</td>\n",
              "      <td>...</td>\n",
              "      <td>...</td>\n",
              "      <td>...</td>\n",
              "      <td>...</td>\n",
              "      <td>...</td>\n",
              "      <td>...</td>\n",
              "      <td>...</td>\n",
              "      <td>...</td>\n",
              "      <td>...</td>\n",
              "      <td>...</td>\n",
              "      <td>...</td>\n",
              "      <td>...</td>\n",
              "      <td>...</td>\n",
              "      <td>...</td>\n",
              "    </tr>\n",
              "    <tr>\n",
              "      <th>166</th>\n",
              "      <td>0.624423</td>\n",
              "      <td>102_left</td>\n",
              "      <td>234_right</td>\n",
              "      <td>West Virginia</td>\n",
              "      <td>Big 12</td>\n",
              "      <td>Dana Holgorsen</td>\n",
              "      <td>3605000.0</td>\n",
              "      <td>3617500.0</td>\n",
              "      <td>1000000.0</td>\n",
              "      <td>90000.0</td>\n",
              "      <td>0</td>\n",
              "      <td>7150000.0</td>\n",
              "      <td>West Virginia</td>\n",
              "      <td>West Virginia</td>\n",
              "      <td>West Virginia</td>\n",
              "      <td>West Virginia</td>\n",
              "      <td>West Virginia University</td>\n",
              "      <td>West Virginia</td>\n",
              "      <td>West Virginia</td>\n",
              "      <td>West Virginia</td>\n",
              "      <td>West Virginia</td>\n",
              "      <td>West Virginia University</td>\n",
              "      <td>Big 12</td>\n",
              "      <td>102680928.0</td>\n",
              "      <td>98249890.0</td>\n",
              "      <td>27.0</td>\n",
              "      <td>West Virginia</td>\n",
              "      <td>West Virginia</td>\n",
              "      <td>West Virginia</td>\n",
              "      <td>West Virginia</td>\n",
              "      <td>West Virginia University</td>\n",
              "      <td>West Virginia</td>\n",
              "      <td>West Virginia</td>\n",
              "      <td>West Virginia</td>\n",
              "      <td>West Virginia</td>\n",
              "      <td>West Virginia University</td>\n",
              "      <td>761.0</td>\n",
              "      <td>508.0</td>\n",
              "      <td>45.0</td>\n",
              "      <td>0.596</td>\n",
              "      <td>127.0</td>\n",
              "      <td>1314.0</td>\n",
              "      <td>Big 12</td>\n",
              "      <td>Big 12</td>\n",
              "      <td>2012</td>\n",
              "      <td>West Virginia</td>\n",
              "      <td>West Virginia</td>\n",
              "      <td>West Virginia</td>\n",
              "      <td>West Virginia</td>\n",
              "      <td>West Virginia University</td>\n",
              "      <td>Big 12</td>\n",
              "      <td>Big 12</td>\n",
              "      <td>Football</td>\n",
              "      <td>WV</td>\n",
              "      <td>66</td>\n",
              "      <td>0</td>\n",
              "      <td>58.0</td>\n",
              "      <td>0</td>\n",
              "    </tr>\n",
              "    <tr>\n",
              "      <th>167</th>\n",
              "      <td>0.591795</td>\n",
              "      <td>103_left</td>\n",
              "      <td>237_right</td>\n",
              "      <td>Western Kentucky</td>\n",
              "      <td>C-USA</td>\n",
              "      <td>Mike Sanford Jr.</td>\n",
              "      <td>800000.0</td>\n",
              "      <td>805850.0</td>\n",
              "      <td>400000.0</td>\n",
              "      <td>0.0</td>\n",
              "      <td>0</td>\n",
              "      <td>1200000.0</td>\n",
              "      <td>Western Kentucky</td>\n",
              "      <td>Western Kentucky</td>\n",
              "      <td>Western Kentucky</td>\n",
              "      <td>Western Kentucky</td>\n",
              "      <td>Western Kentucky University</td>\n",
              "      <td>Western Kentucky</td>\n",
              "      <td>Western Kentucky</td>\n",
              "      <td>Western Kentucky</td>\n",
              "      <td>Western Kentucky</td>\n",
              "      <td>Western Kentucky University</td>\n",
              "      <td>C-USA</td>\n",
              "      <td>30770123.0</td>\n",
              "      <td>30770123.0</td>\n",
              "      <td>32.0</td>\n",
              "      <td>Western Kentucky</td>\n",
              "      <td>Western Kentucky</td>\n",
              "      <td>Western Kentucky</td>\n",
              "      <td>Western Kentucky</td>\n",
              "      <td>Western Kentucky University</td>\n",
              "      <td>Western Kentucky</td>\n",
              "      <td>Western Kentucky</td>\n",
              "      <td>Western Kentucky</td>\n",
              "      <td>Western Kentucky</td>\n",
              "      <td>Western Kentucky University</td>\n",
              "      <td>589.0</td>\n",
              "      <td>411.0</td>\n",
              "      <td>30.0</td>\n",
              "      <td>0.586</td>\n",
              "      <td>101.0</td>\n",
              "      <td>1030.0</td>\n",
              "      <td>C-USA</td>\n",
              "      <td>C-USA</td>\n",
              "      <td>2012</td>\n",
              "      <td>Western Kentucky</td>\n",
              "      <td>Western Kentucky</td>\n",
              "      <td>Western Kentucky</td>\n",
              "      <td>Western Kentucky</td>\n",
              "      <td>Western Kentucky University</td>\n",
              "      <td>C-USA</td>\n",
              "      <td>C-USA</td>\n",
              "      <td>Football</td>\n",
              "      <td>KY</td>\n",
              "      <td>71</td>\n",
              "      <td>1</td>\n",
              "      <td>52.0</td>\n",
              "      <td>0</td>\n",
              "    </tr>\n",
              "    <tr>\n",
              "      <th>168</th>\n",
              "      <td>0.547875</td>\n",
              "      <td>104_left</td>\n",
              "      <td>238_right</td>\n",
              "      <td>Western Michigan</td>\n",
              "      <td>MAC</td>\n",
              "      <td>Tim Lester</td>\n",
              "      <td>800000.0</td>\n",
              "      <td>800000.0</td>\n",
              "      <td>346500.0</td>\n",
              "      <td>39250.0</td>\n",
              "      <td>0</td>\n",
              "      <td>800000.0</td>\n",
              "      <td>Western Michigan</td>\n",
              "      <td>Western Michigan</td>\n",
              "      <td>Western Michigan</td>\n",
              "      <td>Western Michigan</td>\n",
              "      <td>Western Michigan University</td>\n",
              "      <td>Western Michigan</td>\n",
              "      <td>Western Michigan</td>\n",
              "      <td>Western Michigan</td>\n",
              "      <td>Western Michigan</td>\n",
              "      <td>Western Michigan University</td>\n",
              "      <td>MAC</td>\n",
              "      <td>38492604.0</td>\n",
              "      <td>38997076.0</td>\n",
              "      <td>56.0</td>\n",
              "      <td>Western Michigan</td>\n",
              "      <td>Western Michigan</td>\n",
              "      <td>Western Michigan</td>\n",
              "      <td>Western Michigan</td>\n",
              "      <td>Western Michigan University</td>\n",
              "      <td>Western Michigan</td>\n",
              "      <td>Western Michigan</td>\n",
              "      <td>Western Michigan</td>\n",
              "      <td>Western Michigan</td>\n",
              "      <td>Western Michigan University</td>\n",
              "      <td>580.0</td>\n",
              "      <td>461.0</td>\n",
              "      <td>24.0</td>\n",
              "      <td>0.556</td>\n",
              "      <td>114.0</td>\n",
              "      <td>1065.0</td>\n",
              "      <td>MAC</td>\n",
              "      <td>MAC</td>\n",
              "      <td>2012</td>\n",
              "      <td>Western Michigan</td>\n",
              "      <td>Western Michigan</td>\n",
              "      <td>Western Michigan</td>\n",
              "      <td>Western Michigan</td>\n",
              "      <td>Western Michigan University</td>\n",
              "      <td>MAC</td>\n",
              "      <td>MAC</td>\n",
              "      <td>Football</td>\n",
              "      <td>MI</td>\n",
              "      <td>80</td>\n",
              "      <td>1</td>\n",
              "      <td>47.0</td>\n",
              "      <td>0</td>\n",
              "    </tr>\n",
              "    <tr>\n",
              "      <th>169</th>\n",
              "      <td>0.340206</td>\n",
              "      <td>105_left</td>\n",
              "      <td>240_right</td>\n",
              "      <td>Wisconsin</td>\n",
              "      <td>Big Ten</td>\n",
              "      <td>Paul Chryst</td>\n",
              "      <td>3750000.0</td>\n",
              "      <td>3750000.0</td>\n",
              "      <td>0.0</td>\n",
              "      <td>290000.0</td>\n",
              "      <td>0</td>\n",
              "      <td>6000000.0</td>\n",
              "      <td>Wisconsin</td>\n",
              "      <td>Wisconsin</td>\n",
              "      <td>Wisconsin</td>\n",
              "      <td>Wisconsin</td>\n",
              "      <td>University of Wisconsin-Madison</td>\n",
              "      <td>Wisconsin</td>\n",
              "      <td>Wisconsin</td>\n",
              "      <td>Wisconsin</td>\n",
              "      <td>Wisconsin</td>\n",
              "      <td>University of Wisconsin-Madison</td>\n",
              "      <td>Big Ten</td>\n",
              "      <td>157660107.0</td>\n",
              "      <td>154621828.0</td>\n",
              "      <td>33.0</td>\n",
              "      <td>Wisconsin</td>\n",
              "      <td>Wisconsin</td>\n",
              "      <td>Wisconsin</td>\n",
              "      <td>Wisconsin</td>\n",
              "      <td>University of Wisconsin-Madison</td>\n",
              "      <td>Wisconsin</td>\n",
              "      <td>Wisconsin</td>\n",
              "      <td>Wisconsin</td>\n",
              "      <td>Wisconsin</td>\n",
              "      <td>University of Wisconsin-Madison</td>\n",
              "      <td>719.0</td>\n",
              "      <td>502.0</td>\n",
              "      <td>53.0</td>\n",
              "      <td>0.585</td>\n",
              "      <td>131.0</td>\n",
              "      <td>1274.0</td>\n",
              "      <td>Big Ten</td>\n",
              "      <td>Big Ten</td>\n",
              "      <td>2012</td>\n",
              "      <td>Wisconsin</td>\n",
              "      <td>Wisconsin</td>\n",
              "      <td>Wisconsin</td>\n",
              "      <td>Wisconsin</td>\n",
              "      <td>University of Wisconsin-Madison</td>\n",
              "      <td>Big Ten</td>\n",
              "      <td>Big Ten</td>\n",
              "      <td>Football</td>\n",
              "      <td>WI</td>\n",
              "      <td>90</td>\n",
              "      <td>1</td>\n",
              "      <td>77.0</td>\n",
              "      <td>1</td>\n",
              "    </tr>\n",
              "    <tr>\n",
              "      <th>170</th>\n",
              "      <td>0.522569</td>\n",
              "      <td>106_left</td>\n",
              "      <td>241_right</td>\n",
              "      <td>Wyoming</td>\n",
              "      <td>Mt. West</td>\n",
              "      <td>Craig Bohl</td>\n",
              "      <td>1412000.0</td>\n",
              "      <td>1412000.0</td>\n",
              "      <td>450000.0</td>\n",
              "      <td>236000.0</td>\n",
              "      <td>0</td>\n",
              "      <td>8016667.0</td>\n",
              "      <td>Wyoming</td>\n",
              "      <td>Wyoming</td>\n",
              "      <td>Wyoming</td>\n",
              "      <td>Wyoming</td>\n",
              "      <td>University of Wyoming</td>\n",
              "      <td>Wyoming</td>\n",
              "      <td>Wyoming</td>\n",
              "      <td>Wyoming</td>\n",
              "      <td>Wyoming</td>\n",
              "      <td>University of Wyoming</td>\n",
              "      <td>Mt. West</td>\n",
              "      <td>47046852.0</td>\n",
              "      <td>48154020.0</td>\n",
              "      <td>102.0</td>\n",
              "      <td>Wyoming</td>\n",
              "      <td>Wyoming</td>\n",
              "      <td>Wyoming</td>\n",
              "      <td>Wyoming</td>\n",
              "      <td>University of Wyoming</td>\n",
              "      <td>Wyoming</td>\n",
              "      <td>Wyoming</td>\n",
              "      <td>Wyoming</td>\n",
              "      <td>Wyoming</td>\n",
              "      <td>University of Wyoming</td>\n",
              "      <td>542.0</td>\n",
              "      <td>583.0</td>\n",
              "      <td>28.0</td>\n",
              "      <td>0.482</td>\n",
              "      <td>123.0</td>\n",
              "      <td>1153.0</td>\n",
              "      <td>Mountain West</td>\n",
              "      <td>Mt. West</td>\n",
              "      <td>2012</td>\n",
              "      <td>Wyoming</td>\n",
              "      <td>Wyoming</td>\n",
              "      <td>Wyoming</td>\n",
              "      <td>Wyoming</td>\n",
              "      <td>University of Wyoming</td>\n",
              "      <td>Mountain West</td>\n",
              "      <td>Mt. West</td>\n",
              "      <td>Football</td>\n",
              "      <td>WY</td>\n",
              "      <td>85</td>\n",
              "      <td>1</td>\n",
              "      <td>51.0</td>\n",
              "      <td>0</td>\n",
              "    </tr>\n",
              "  </tbody>\n",
              "</table>\n",
              "<p>100 rows × 58 columns</p>\n",
              "</div>"
            ],
            "text/plain": [
              "     best_match_score __id_left __id_right  ... GSR_rate   FGR FGR_rate\n",
              "0            0.427329    0_left  218_right  ...        1   NaN        0\n",
              "1            0.259051    1_left    1_right  ...        1  61.0        1\n",
              "2            0.193203    2_left    4_right  ...        1  65.0        1\n",
              "3            0.492675    3_left    8_right  ...        1  67.0        1\n",
              "4            0.252369    4_left   10_right  ...        1  58.0        0\n",
              "..                ...       ...        ...  ...      ...   ...      ...\n",
              "166          0.624423  102_left  234_right  ...        0  58.0        0\n",
              "167          0.591795  103_left  237_right  ...        1  52.0        0\n",
              "168          0.547875  104_left  238_right  ...        1  47.0        0\n",
              "169          0.340206  105_left  240_right  ...        1  77.0        1\n",
              "170          0.522569  106_left  241_right  ...        1  51.0        0\n",
              "\n",
              "[100 rows x 58 columns]"
            ]
          },
          "metadata": {
            "tags": []
          },
          "execution_count": 315
        }
      ]
    },
    {
      "cell_type": "code",
      "metadata": {
        "id": "J-0m271lKIxL",
        "colab": {
          "base_uri": "https://localhost:8080/"
        },
        "outputId": "0096c9db-aee4-4430-d7fc-300faf3bc893"
      },
      "source": [
        "del dfjoined3['Conference_right']\n",
        "del dfjoined3['School_right']\n",
        "\n",
        "dfjoined3=dfjoined3.rename(columns = {\"School_left\":\"School\"})\n",
        "dfjoined3=dfjoined3.rename(columns = {\"Conference_left\":\"Conference\"})\n",
        "\n",
        "dfjoined3.info()"
      ],
      "execution_count": 316,
      "outputs": [
        {
          "output_type": "stream",
          "text": [
            "<class 'pandas.core.frame.DataFrame'>\n",
            "Int64Index: 100 entries, 0 to 170\n",
            "Data columns (total 29 columns):\n",
            " #   Column            Non-Null Count  Dtype  \n",
            "---  ------            --------------  -----  \n",
            " 0   best_match_score  100 non-null    float64\n",
            " 1   __id_left         100 non-null    object \n",
            " 2   __id_right        100 non-null    object \n",
            " 3   School            100 non-null    object \n",
            " 4   Conference        100 non-null    object \n",
            " 5   Coach             100 non-null    object \n",
            " 6   SchoolPay         100 non-null    float64\n",
            " 7   TotalPay          100 non-null    float64\n",
            " 8   Bonus             100 non-null    float64\n",
            " 9   BonusPaid         100 non-null    float64\n",
            " 10  AssistantPay      100 non-null    int64  \n",
            " 11  Buyout            100 non-null    float64\n",
            " 12  Conf              100 non-null    object \n",
            " 13  Total Revenue     100 non-null    float64\n",
            " 14  Total Expenses    89 non-null     float64\n",
            " 15  Rank              100 non-null    float64\n",
            " 16  Won               100 non-null    float64\n",
            " 17  Lost              100 non-null    float64\n",
            " 18  Tied              100 non-null    float64\n",
            " 19  Pct.              100 non-null    float64\n",
            " 20  Years             100 non-null    float64\n",
            " 21  Total Games       100 non-null    float64\n",
            " 22  Cohort Year       100 non-null    int64  \n",
            " 23  Sport             100 non-null    object \n",
            " 24  State             100 non-null    object \n",
            " 25  GSR               100 non-null    int64  \n",
            " 26  GSR_rate          100 non-null    int64  \n",
            " 27  FGR               98 non-null     float64\n",
            " 28  FGR_rate          100 non-null    int64  \n",
            "dtypes: float64(16), int64(5), object(8)\n",
            "memory usage: 23.4+ KB\n"
          ],
          "name": "stdout"
        }
      ]
    },
    {
      "cell_type": "code",
      "metadata": {
        "id": "JhuIW0ENI8RR",
        "colab": {
          "base_uri": "https://localhost:8080/"
        },
        "outputId": "51b45d56-ac10-4836-b13f-734be9e542f1"
      },
      "source": [
        "del dfjoined3['best_match_score']\n",
        "del dfjoined3['__id_left']\n",
        "del dfjoined3['__id_right']\n",
        "dfjoined3.info()"
      ],
      "execution_count": 317,
      "outputs": [
        {
          "output_type": "stream",
          "text": [
            "<class 'pandas.core.frame.DataFrame'>\n",
            "Int64Index: 100 entries, 0 to 170\n",
            "Data columns (total 26 columns):\n",
            " #   Column          Non-Null Count  Dtype  \n",
            "---  ------          --------------  -----  \n",
            " 0   School          100 non-null    object \n",
            " 1   Conference      100 non-null    object \n",
            " 2   Coach           100 non-null    object \n",
            " 3   SchoolPay       100 non-null    float64\n",
            " 4   TotalPay        100 non-null    float64\n",
            " 5   Bonus           100 non-null    float64\n",
            " 6   BonusPaid       100 non-null    float64\n",
            " 7   AssistantPay    100 non-null    int64  \n",
            " 8   Buyout          100 non-null    float64\n",
            " 9   Conf            100 non-null    object \n",
            " 10  Total Revenue   100 non-null    float64\n",
            " 11  Total Expenses  89 non-null     float64\n",
            " 12  Rank            100 non-null    float64\n",
            " 13  Won             100 non-null    float64\n",
            " 14  Lost            100 non-null    float64\n",
            " 15  Tied            100 non-null    float64\n",
            " 16  Pct.            100 non-null    float64\n",
            " 17  Years           100 non-null    float64\n",
            " 18  Total Games     100 non-null    float64\n",
            " 19  Cohort Year     100 non-null    int64  \n",
            " 20  Sport           100 non-null    object \n",
            " 21  State           100 non-null    object \n",
            " 22  GSR             100 non-null    int64  \n",
            " 23  GSR_rate        100 non-null    int64  \n",
            " 24  FGR             98 non-null     float64\n",
            " 25  FGR_rate        100 non-null    int64  \n",
            "dtypes: float64(15), int64(5), object(6)\n",
            "memory usage: 21.1+ KB\n"
          ],
          "name": "stdout"
        }
      ]
    },
    {
      "cell_type": "code",
      "metadata": {
        "id": "sBxAOP9MbP3o"
      },
      "source": [
        "right_on = [\"College\", \"Conference\"]\n",
        "CoachData = fuzzymatcher.fuzzy_left_join(dfjoined3,stadiums, left_on, right_on) #Merge on School and Conference\n",
        "\n",
        "del CoachData['best_match_score']\n",
        "del CoachData['__id_left']\n",
        "del CoachData['__id_right']\n",
        "del CoachData['Conference_right']\n",
        "\n",
        "CoachData=CoachData.rename(columns = {\"Conference_left\":\"Conference\"})\n",
        "CoachData=CoachData.rename(columns = {\"Total Revenue\":\"Total_Revenue\"})\n",
        "CoachData=CoachData.rename(columns = {\"Total Expenses\":\"Total_Expenses\"})\n",
        "CoachData=CoachData.rename(columns = {\"Pct.\":\"Pct\"})\n",
        "\n",
        "CoachData['Buyout'] = CoachData['Buyout'].fillna(0)\n",
        "\n",
        "CoachData['Rank']\n",
        "\n",
        "CoachData.info()\n",
        "#Conf_Variables=pd.get_dummies(CoachData['Conference'])\n",
        "#CoachData['Conference DVar']=Conf_Variables\n"
      ],
      "execution_count": null,
      "outputs": []
    },
    {
      "cell_type": "code",
      "metadata": {
        "colab": {
          "base_uri": "https://localhost:8080/",
          "height": 17
        },
        "id": "ESr0g23X5Y2E",
        "outputId": "fa51d5b8-556c-4c7e-ad99-5a071cf6da9f"
      },
      "source": [
        "from google.colab import files\n",
        "CoachData.to_csv('CoachData.csv') \n",
        "files.download('CoachData.csv')"
      ],
      "execution_count": 330,
      "outputs": [
        {
          "output_type": "display_data",
          "data": {
            "application/javascript": [
              "\n",
              "    async function download(id, filename, size) {\n",
              "      if (!google.colab.kernel.accessAllowed) {\n",
              "        return;\n",
              "      }\n",
              "      const div = document.createElement('div');\n",
              "      const label = document.createElement('label');\n",
              "      label.textContent = `Downloading \"${filename}\": `;\n",
              "      div.appendChild(label);\n",
              "      const progress = document.createElement('progress');\n",
              "      progress.max = size;\n",
              "      div.appendChild(progress);\n",
              "      document.body.appendChild(div);\n",
              "\n",
              "      const buffers = [];\n",
              "      let downloaded = 0;\n",
              "\n",
              "      const channel = await google.colab.kernel.comms.open(id);\n",
              "      // Send a message to notify the kernel that we're ready.\n",
              "      channel.send({})\n",
              "\n",
              "      for await (const message of channel.messages) {\n",
              "        // Send a message to notify the kernel that we're ready.\n",
              "        channel.send({})\n",
              "        if (message.buffers) {\n",
              "          for (const buffer of message.buffers) {\n",
              "            buffers.push(buffer);\n",
              "            downloaded += buffer.byteLength;\n",
              "            progress.value = downloaded;\n",
              "          }\n",
              "        }\n",
              "      }\n",
              "      const blob = new Blob(buffers, {type: 'application/binary'});\n",
              "      const a = document.createElement('a');\n",
              "      a.href = window.URL.createObjectURL(blob);\n",
              "      a.download = filename;\n",
              "      div.appendChild(a);\n",
              "      a.click();\n",
              "      div.remove();\n",
              "    }\n",
              "  "
            ],
            "text/plain": [
              "<IPython.core.display.Javascript object>"
            ]
          },
          "metadata": {
            "tags": []
          }
        },
        {
          "output_type": "display_data",
          "data": {
            "application/javascript": [
              "download(\"download_5d97137a-a224-401f-aa63-ba7b201e4058\", \"CoachData.csv\", 22765)"
            ],
            "text/plain": [
              "<IPython.core.display.Javascript object>"
            ]
          },
          "metadata": {
            "tags": []
          }
        }
      ]
    },
    {
      "cell_type": "code",
      "metadata": {
        "colab": {
          "base_uri": "https://localhost:8080/",
          "height": 519
        },
        "id": "dD8ZXWb04cYP",
        "outputId": "b358cb09-4956-49c4-d89a-a3b0f9127ff3"
      },
      "source": [
        "sns.histplot(data=CoachData, x=\"SchoolPay\")"
      ],
      "execution_count": 329,
      "outputs": [
        {
          "output_type": "execute_result",
          "data": {
            "text/plain": [
              "<matplotlib.axes._subplots.AxesSubplot at 0x7f21b6033210>"
            ]
          },
          "metadata": {
            "tags": []
          },
          "execution_count": 329
        },
        {
          "output_type": "display_data",
          "data": {
            "image/png": "[encoded data removed]",
            "text/plain": [
              "<Figure size 720x576 with 1 Axes>"
            ]
          },
          "metadata": {
            "tags": []
          }
        }
      ]
    },
    {
      "cell_type": "code",
      "metadata": {
        "colab": {
          "base_uri": "https://localhost:8080/",
          "height": 535
        },
        "id": "BbE4v7e9nOwU",
        "outputId": "c6c19239-4da1-4dd4-fc24-23200c5a892f"
      },
      "source": [
        "#Visualizations \n",
        "\n",
        "sns.scatterplot(data=CoachData, x=\"Capacity\", y=\"SchoolPay\", hue=\"Conference\")\n",
        "sns.set(rc = {'figure.figsize':(10,8)})\n",
        "plt.title('Coach Salary by Stadium Size')  \n",
        "plt.xlabel('Salary')  \n",
        "plt.ylabel('Capacity')\n"
      ],
      "execution_count": 319,
      "outputs": [
        {
          "output_type": "execute_result",
          "data": {
            "text/plain": [
              "Text(0, 0.5, 'Capacity')"
            ]
          },
          "metadata": {
            "tags": []
          },
          "execution_count": 319
        },
        {
          "output_type": "display_data",
          "data": {
            "image/png": "[encoded data removed]",
            "text/plain": [
              "<Figure size 720x576 with 1 Axes>"
            ]
          },
          "metadata": {
            "tags": []
          }
        }
      ]
    },
    {
      "cell_type": "code",
      "metadata": {
        "colab": {
          "base_uri": "https://localhost:8080/",
          "height": 518
        },
        "id": "0n7SZtfSZHPv",
        "outputId": "d6fd434c-6af1-4b3d-ccef-9f00390bccd6"
      },
      "source": [
        "#Average Salary per Conference\n",
        "\n",
        "from numpy import mean\n",
        "sns.set_theme(style=\"whitegrid\")\n",
        "ax = sns.barplot(x=\"Conference\", y=\"SchoolPay\", data=CoachData, estimator=mean)\n",
        "plt.title('Average Salary Per Conference')\n",
        "sns.set(rc = {'figure.figsize':(10,8)})  "
      ],
      "execution_count": 320,
      "outputs": [
        {
          "output_type": "display_data",
          "data": {
            "image/png": "[encoded data removed]",
            "text/plain": [
              "<Figure size 720x576 with 1 Axes>"
            ]
          },
          "metadata": {
            "tags": []
          }
        }
      ]
    },
    {
      "cell_type": "code",
      "metadata": {
        "colab": {
          "base_uri": "https://localhost:8080/",
          "height": 399
        },
        "id": "ScCUOkI7Mqg2",
        "outputId": "5d709b33-6b21-4886-9cc0-533ce3e9c09b"
      },
      "source": [
        "sns.lmplot(x=\"Rank\", y=\"SchoolPay\", data=CoachData)"
      ],
      "execution_count": 321,
      "outputs": [
        {
          "output_type": "execute_result",
          "data": {
            "text/plain": [
              "<seaborn.axisgrid.FacetGrid at 0x7f21bd67dd50>"
            ]
          },
          "metadata": {
            "tags": []
          },
          "execution_count": 321
        },
        {
          "output_type": "display_data",
          "data": {
            "image/png": "[encoded data removed]",
            "text/plain": [
              "<Figure size 360x360 with 1 Axes>"
            ]
          },
          "metadata": {
            "tags": []
          }
        }
      ]
    },
    {
      "cell_type": "code",
      "metadata": {
        "colab": {
          "base_uri": "https://localhost:8080/",
          "height": 764
        },
        "id": "jcNzu5IL03Zx",
        "outputId": "786de02c-3ee5-4099-9fa9-eb24f3e204db"
      },
      "source": [
        "sns.lmplot(x=\"FGR\", y=\"SchoolPay\", data=CoachData)\n",
        "sns.lmplot(x=\"GSR\", y=\"SchoolPay\", data=CoachData)"
      ],
      "execution_count": 322,
      "outputs": [
        {
          "output_type": "execute_result",
          "data": {
            "text/plain": [
              "<seaborn.axisgrid.FacetGrid at 0x7f21bdba3a50>"
            ]
          },
          "metadata": {
            "tags": []
          },
          "execution_count": 322
        },
        {
          "output_type": "display_data",
          "data": {
            "image/png": "[encoded data removed]",
            "text/plain": [
              "<Figure size 360x360 with 1 Axes>"
            ]
          },
          "metadata": {
            "tags": []
          }
        },
        {
          "output_type": "display_data",
          "data": {
            "image/png": "[encoded data removed]",
            "text/plain": [
              "<Figure size 360x360 with 1 Axes>"
            ]
          },
          "metadata": {
            "tags": []
          }
        }
      ]
    },
    {
      "cell_type": "code",
      "metadata": {
        "colab": {
          "base_uri": "https://localhost:8080/",
          "height": 535
        },
        "id": "Q1-Cz9h0U-ka",
        "outputId": "02615a9c-9c22-48f0-fcb7-605b4416aeee"
      },
      "source": [
        "sns.scatterplot(data=CoachData, x=\"Total_Revenue\", y=\"SchoolPay\", hue=\"Won\")\n",
        "sns.set(rc = {'figure.figsize':(10,8)})\n",
        "plt.title('Pay by Income and Wins')  \n",
        "plt.xlabel('Revenue')  \n",
        "plt.ylabel('Salary')"
      ],
      "execution_count": 323,
      "outputs": [
        {
          "output_type": "execute_result",
          "data": {
            "text/plain": [
              "Text(0, 0.5, 'Salary')"
            ]
          },
          "metadata": {
            "tags": []
          },
          "execution_count": 323
        },
        {
          "output_type": "display_data",
          "data": {
            "image/png": "[encoded data removed]",
            "text/plain": [
              "<Figure size 720x576 with 1 Axes>"
            ]
          },
          "metadata": {
            "tags": []
          }
        }
      ]
    },
    {
      "cell_type": "code",
      "metadata": {
        "id": "-DQTygvLx7dn",
        "colab": {
          "base_uri": "https://localhost:8080/",
          "height": 518
        },
        "outputId": "546f5ca0-0c45-40e0-e2f9-fa807ed03560"
      },
      "source": [
        "\n",
        "sns.boxplot(x=\"Conference\", y=\"SchoolPay\", data=coaches, color = \"blue\");\n",
        "\n",
        "plt.title('Distribution of Pay Per Conference')\n",
        "sns.set(rc = {'figure.figsize':(10,8)})\n",
        "plt.show()\n",
        "\n",
        "\n",
        "\n"
      ],
      "execution_count": 324,
      "outputs": [
        {
          "output_type": "display_data",
          "data": {
            "image/png": "[encoded data removed]",
            "text/plain": [
              "<Figure size 720x576 with 1 Axes>"
            ]
          },
          "metadata": {
            "tags": []
          }
        }
      ]
    },
    {
      "cell_type": "code",
      "metadata": {
        "colab": {
          "base_uri": "https://localhost:8080/"
        },
        "id": "CQeuN5-XUTCA",
        "outputId": "7932a19c-24e7-4339-fa2d-fa67a6ca9dd4"
      },
      "source": [
        "# MOdels \n",
        "\n",
        "model_1 = str('SchoolPay ~ Conference+Capacity+GSR_rate+Total_Revenue+Pct+Rank+Won+Lost+Tied')\n",
        "model_1_fit = smf.ols(model_1, data = CoachData).fit()\n",
        "print(model_1_fit.summary())"
      ],
      "execution_count": 327,
      "outputs": [
        {
          "output_type": "stream",
          "text": [
            "                            OLS Regression Results                            \n",
            "==============================================================================\n",
            "Dep. Variable:              SchoolPay   R-squared:                       0.853\n",
            "Model:                            OLS   Adj. R-squared:                  0.820\n",
            "Method:                 Least Squares   F-statistic:                     26.10\n",
            "Date:                Sun, 25 Jul 2021   Prob (F-statistic):           2.28e-26\n",
            "Time:                        18:11:22   Log-Likelihood:                -1495.4\n",
            "No. Observations:                 100   AIC:                             3029.\n",
            "Df Residuals:                      81   BIC:                             3078.\n",
            "Df Model:                          18                                         \n",
            "Covariance Type:            nonrobust                                         \n",
            "==========================================================================================\n",
            "                             coef    std err          t      P>|t|      [0.025      0.975]\n",
            "------------------------------------------------------------------------------------------\n",
            "Intercept              -5.542e+05   3.01e+06     -0.184      0.855   -6.55e+06    5.44e+06\n",
            "Conference[T.ACC]       1.818e+06   7.44e+05      2.442      0.017    3.37e+05     3.3e+06\n",
            "Conference[T.Big 12]    1.806e+06   7.99e+05      2.259      0.027    2.16e+05     3.4e+06\n",
            "Conference[T.Big Ten]   2.007e+06   7.91e+05      2.536      0.013    4.32e+05    3.58e+06\n",
            "Conference[T.C-USA]     2.662e+05   7.54e+05      0.353      0.725   -1.23e+06    1.77e+06\n",
            "Conference[T.Ind.]     -3.695e+05   9.13e+05     -0.405      0.687   -2.19e+06    1.45e+06\n",
            "Conference[T.MAC]       2.595e+05   7.89e+05      0.329      0.743   -1.31e+06    1.83e+06\n",
            "Conference[T.Mt. West]  3.154e+05   7.16e+05      0.440      0.661   -1.11e+06    1.74e+06\n",
            "Conference[T.Pac-12]    1.101e+06   7.67e+05      1.435      0.155   -4.25e+05    2.63e+06\n",
            "Conference[T.SEC]       2.314e+06   7.81e+05      2.962      0.004    7.59e+05    3.87e+06\n",
            "Conference[T.Sun Belt]  1.452e+05   7.34e+05      0.198      0.844   -1.32e+06    1.61e+06\n",
            "Capacity                  12.2749     11.012      1.115      0.268      -9.635      34.185\n",
            "GSR_rate               -1.167e+05    2.7e+05     -0.433      0.666   -6.53e+05     4.2e+05\n",
            "Total_Revenue              0.0108      0.004      2.529      0.013       0.002       0.019\n",
            "Pct                    -4.727e+05   4.58e+06     -0.103      0.918   -9.59e+06    8.65e+06\n",
            "Rank                    6015.6675   9569.872      0.629      0.531    -1.3e+04    2.51e+04\n",
            "Won                     3915.2921   1629.386      2.403      0.019     673.326    7157.258\n",
            "Lost                   -3266.7414   1573.469     -2.076      0.041   -6397.450    -136.032\n",
            "Tied                   -9133.9715    1.3e+04     -0.700      0.486   -3.51e+04    1.68e+04\n",
            "==============================================================================\n",
            "Omnibus:                        1.953   Durbin-Watson:                   1.970\n",
            "Prob(Omnibus):                  0.377   Jarque-Bera (JB):                1.402\n",
            "Skew:                           0.255   Prob(JB):                        0.496\n",
            "Kurtosis:                       3.275   Cond. No.                     6.19e+09\n",
            "==============================================================================\n",
            "\n",
            "Warnings:\n",
            "[1] Standard Errors assume that the covariance matrix of the errors is correctly specified.\n",
            "[2] The condition number is large, 6.19e+09. This might indicate that there are\n",
            "strong multicollinearity or other numerical problems.\n"
          ],
          "name": "stdout"
        }
      ]
    },
    {
      "cell_type": "code",
      "metadata": {
        "id": "NLlHsoEM7tN9",
        "colab": {
          "base_uri": "https://localhost:8080/"
        },
        "outputId": "2c2cee32-0f20-4226-fadd-b389cd62f993"
      },
      "source": [
        "\n",
        "\n",
        "model_2 = str('SchoolPay ~ Capacity+GSR+Bonus+Total_Revenue+Pct+Rank+Won+Lost+Tied')\n",
        "model_2_fit = smf.ols(model_2, data = CoachData).fit()\n",
        "print(model_2_fit.summary())\n"
      ],
      "execution_count": 349,
      "outputs": [
        {
          "output_type": "stream",
          "text": [
            "                            OLS Regression Results                            \n",
            "==============================================================================\n",
            "Dep. Variable:              SchoolPay   R-squared:                       0.797\n",
            "Model:                            OLS   Adj. R-squared:                  0.777\n",
            "Method:                 Least Squares   F-statistic:                     39.33\n",
            "Date:                Sun, 25 Jul 2021   Prob (F-statistic):           1.86e-27\n",
            "Time:                        18:51:20   Log-Likelihood:                -1511.5\n",
            "No. Observations:                 100   AIC:                             3043.\n",
            "Df Residuals:                      90   BIC:                             3069.\n",
            "Df Model:                           9                                         \n",
            "Covariance Type:            nonrobust                                         \n",
            "=================================================================================\n",
            "                    coef    std err          t      P>|t|      [0.025      0.975]\n",
            "---------------------------------------------------------------------------------\n",
            "Intercept      5.014e+05   3.07e+06      0.163      0.871   -5.59e+06    6.59e+06\n",
            "Capacity         22.5021     10.075      2.233      0.028       2.486      42.518\n",
            "GSR            8164.1288   1.11e+04      0.737      0.463   -1.39e+04    3.02e+04\n",
            "Bonus            -0.2427      0.182     -1.332      0.186      -0.605       0.119\n",
            "Total_Revenue     0.0224      0.005      4.766      0.000       0.013       0.032\n",
            "Pct           -4.049e+06   4.79e+06     -0.845      0.400   -1.36e+07    5.47e+06\n",
            "Rank          -2541.2475   1.01e+04     -0.252      0.802   -2.26e+04    1.75e+04\n",
            "Won            2859.6207   1750.270      1.634      0.106    -617.597    6336.838\n",
            "Lost          -1270.4794   1639.880     -0.775      0.441   -4528.387    1987.428\n",
            "Tied          -3172.3369   1.32e+04     -0.240      0.811   -2.94e+04    2.31e+04\n",
            "==============================================================================\n",
            "Omnibus:                        2.042   Durbin-Watson:                   2.041\n",
            "Prob(Omnibus):                  0.360   Jarque-Bera (JB):                1.551\n",
            "Skew:                           0.116   Prob(JB):                        0.461\n",
            "Kurtosis:                       3.564   Cond. No.                     5.74e+09\n",
            "==============================================================================\n",
            "\n",
            "Warnings:\n",
            "[1] Standard Errors assume that the covariance matrix of the errors is correctly specified.\n",
            "[2] The condition number is large, 5.74e+09. This might indicate that there are\n",
            "strong multicollinearity or other numerical problems.\n"
          ],
          "name": "stdout"
        }
      ]
    },
    {
      "cell_type": "code",
      "metadata": {
        "id": "eb8aKN7uB9gP",
        "colab": {
          "base_uri": "https://localhost:8080/"
        },
        "outputId": "43dc2e87-50a1-4db9-e63e-0e2ffec0446f"
      },
      "source": [
        "model_3 = str('SchoolPay ~ GSR+FGR')\n",
        "model_3_fit = smf.ols(model_3, data = CoachData).fit()\n",
        "print(model_3_fit.summary())"
      ],
      "execution_count": 348,
      "outputs": [
        {
          "output_type": "stream",
          "text": [
            "                            OLS Regression Results                            \n",
            "==============================================================================\n",
            "Dep. Variable:              SchoolPay   R-squared:                       0.027\n",
            "Model:                            OLS   Adj. R-squared:                  0.006\n",
            "Method:                 Least Squares   F-statistic:                     1.301\n",
            "Date:                Sun, 25 Jul 2021   Prob (F-statistic):              0.277\n",
            "Time:                        18:51:07   Log-Likelihood:                -1558.3\n",
            "No. Observations:                  98   AIC:                             3123.\n",
            "Df Residuals:                      95   BIC:                             3130.\n",
            "Df Model:                           2                                         \n",
            "Covariance Type:            nonrobust                                         \n",
            "==============================================================================\n",
            "                 coef    std err          t      P>|t|      [0.025      0.975]\n",
            "------------------------------------------------------------------------------\n",
            "Intercept   1.852e+05    1.8e+06      0.103      0.918   -3.39e+06    3.76e+06\n",
            "GSR         5.687e+04   3.53e+04      1.609      0.111   -1.33e+04    1.27e+05\n",
            "FGR        -3.408e+04   2.88e+04     -1.183      0.240   -9.13e+04    2.31e+04\n",
            "==============================================================================\n",
            "Omnibus:                       14.760   Durbin-Watson:                   2.252\n",
            "Prob(Omnibus):                  0.001   Jarque-Bera (JB):               16.681\n",
            "Skew:                           0.993   Prob(JB):                     0.000239\n",
            "Kurtosis:                       3.373   Cond. No.                         920.\n",
            "==============================================================================\n",
            "\n",
            "Warnings:\n",
            "[1] Standard Errors assume that the covariance matrix of the errors is correctly specified.\n"
          ],
          "name": "stdout"
        }
      ]
    },
    {
      "cell_type": "code",
      "metadata": {
        "id": "5b0M8W1ghmTu",
        "colab": {
          "base_uri": "https://localhost:8080/"
        },
        "outputId": "a6b5e9b4-929d-4cda-b1df-b285566fd023"
      },
      "source": [
        "model_4 = str('SchoolPay ~ Conference==\"ACC\"+Capacity+Won+Total_Revenue')\n",
        "model_4_fit = smf.ols(model_4, data = CoachData).fit()\n",
        "print(model_4_fit.summary())"
      ],
      "execution_count": 352,
      "outputs": [
        {
          "output_type": "stream",
          "text": [
            "                            OLS Regression Results                            \n",
            "==============================================================================\n",
            "Dep. Variable:              SchoolPay   R-squared:                       0.795\n",
            "Model:                            OLS   Adj. R-squared:                  0.787\n",
            "Method:                 Least Squares   F-statistic:                     92.32\n",
            "Date:                Sun, 25 Jul 2021   Prob (F-statistic):           7.23e-32\n",
            "Time:                        19:10:52   Log-Likelihood:                -1511.9\n",
            "No. Observations:                 100   AIC:                             3034.\n",
            "Df Residuals:                      95   BIC:                             3047.\n",
            "Df Model:                           4                                         \n",
            "Covariance Type:            nonrobust                                         \n",
            "===============================================================================================\n",
            "                                  coef    std err          t      P>|t|      [0.025      0.975]\n",
            "-----------------------------------------------------------------------------------------------\n",
            "Intercept                   -1.188e+06   2.91e+05     -4.079      0.000   -1.77e+06    -6.1e+05\n",
            "Conference == \"ACC\"[T.True]  5.866e+05      3e+05      1.958      0.053   -8219.904    1.18e+06\n",
            "Capacity                       24.7074      9.335      2.647      0.010       6.175      43.239\n",
            "Won                          1259.6779    618.661      2.036      0.045      31.480    2487.875\n",
            "Total_Revenue                   0.0203      0.004      5.127      0.000       0.012       0.028\n",
            "==============================================================================\n",
            "Omnibus:                        4.101   Durbin-Watson:                   2.025\n",
            "Prob(Omnibus):                  0.129   Jarque-Bera (JB):                3.444\n",
            "Skew:                           0.370   Prob(JB):                        0.179\n",
            "Kurtosis:                       3.528   Cond. No.                     3.19e+08\n",
            "==============================================================================\n",
            "\n",
            "Warnings:\n",
            "[1] Standard Errors assume that the covariance matrix of the errors is correctly specified.\n",
            "[2] The condition number is large, 3.19e+08. This might indicate that there are\n",
            "strong multicollinearity or other numerical problems.\n"
          ],
          "name": "stdout"
        }
      ]
    },
    {
      "cell_type": "code",
      "metadata": {
        "id": "96_A7SSvj1B6",
        "colab": {
          "base_uri": "https://localhost:8080/"
        },
        "outputId": "1180d73f-5357-4dc4-9e60-87818ce06f25"
      },
      "source": [
        "#Big Ten Analysis\n",
        "\n",
        "model_5 = str('SchoolPay ~ Conference==\"Big Ten\"+Capacity+Won+Total_Revenue')\n",
        "model_5_fit = smf.ols(model_5, data = CoachData).fit()\n",
        "print(model_5_fit.summary())"
      ],
      "execution_count": 345,
      "outputs": [
        {
          "output_type": "stream",
          "text": [
            "                            OLS Regression Results                            \n",
            "==============================================================================\n",
            "Dep. Variable:              SchoolPay   R-squared:                       0.788\n",
            "Model:                            OLS   Adj. R-squared:                  0.779\n",
            "Method:                 Least Squares   F-statistic:                     88.12\n",
            "Date:                Sun, 25 Jul 2021   Prob (F-statistic):           4.11e-31\n",
            "Time:                        18:49:04   Log-Likelihood:                -1513.8\n",
            "No. Observations:                 100   AIC:                             3038.\n",
            "Df Residuals:                      95   BIC:                             3051.\n",
            "Df Model:                           4                                         \n",
            "Covariance Type:            nonrobust                                         \n",
            "===================================================================================================\n",
            "                                      coef    std err          t      P>|t|      [0.025      0.975]\n",
            "---------------------------------------------------------------------------------------------------\n",
            "Intercept                       -1.212e+06   2.97e+05     -4.087      0.000    -1.8e+06   -6.23e+05\n",
            "Conference == \"Big Ten\"[T.True]  1.613e+05   3.15e+05      0.512      0.610   -4.65e+05    7.87e+05\n",
            "Capacity                           27.5351      9.447      2.915      0.004       8.781      46.289\n",
            "Won                              1400.7394    625.783      2.238      0.028     158.404    2643.075\n",
            "Total_Revenue                       0.0184      0.004      4.461      0.000       0.010       0.027\n",
            "==============================================================================\n",
            "Omnibus:                        1.723   Durbin-Watson:                   1.949\n",
            "Prob(Omnibus):                  0.423   Jarque-Bera (JB):                1.227\n",
            "Skew:                           0.248   Prob(JB):                        0.541\n",
            "Kurtosis:                       3.221   Cond. No.                     3.27e+08\n",
            "==============================================================================\n",
            "\n",
            "Warnings:\n",
            "[1] Standard Errors assume that the covariance matrix of the errors is correctly specified.\n",
            "[2] The condition number is large, 3.27e+08. This might indicate that there are\n",
            "strong multicollinearity or other numerical problems.\n"
          ],
          "name": "stdout"
        }
      ]
    },
    {
      "cell_type": "code",
      "metadata": {
        "colab": {
          "base_uri": "https://localhost:8080/"
        },
        "id": "6CyfaqkwKExY",
        "outputId": "cdefd1e8-0811-40fd-ea02-ccbdc9b24bd1"
      },
      "source": [
        "#Big East Analysis\n",
        "\n",
        "model_6 = str('SchoolPay ~ Conference==\"AAC\"+Capacity+Won+Total_Revenue')\n",
        "model_6_fit = smf.ols(model_6, data = CoachData).fit()\n",
        "print(model_6_fit.summary())"
      ],
      "execution_count": 353,
      "outputs": [
        {
          "output_type": "stream",
          "text": [
            "                            OLS Regression Results                            \n",
            "==============================================================================\n",
            "Dep. Variable:              SchoolPay   R-squared:                       0.791\n",
            "Model:                            OLS   Adj. R-squared:                  0.782\n",
            "Method:                 Least Squares   F-statistic:                     89.99\n",
            "Date:                Sun, 25 Jul 2021   Prob (F-statistic):           1.88e-31\n",
            "Time:                        19:33:57   Log-Likelihood:                -1512.9\n",
            "No. Observations:                 100   AIC:                             3036.\n",
            "Df Residuals:                      95   BIC:                             3049.\n",
            "Df Model:                           4                                         \n",
            "Covariance Type:            nonrobust                                         \n",
            "===============================================================================================\n",
            "                                  coef    std err          t      P>|t|      [0.025      0.975]\n",
            "-----------------------------------------------------------------------------------------------\n",
            "Intercept                   -1.161e+06   2.97e+05     -3.910      0.000   -1.75e+06   -5.72e+05\n",
            "Conference == \"AAC\"[T.True] -9.722e+05   7.14e+05     -1.362      0.177   -2.39e+06    4.45e+05\n",
            "Capacity                       31.5705      9.884      3.194      0.002      11.948      51.193\n",
            "Won                          1125.1322    653.107      1.723      0.088    -171.450    2421.714\n",
            "Total_Revenue                   0.0177      0.004      4.372      0.000       0.010       0.026\n",
            "==============================================================================\n",
            "Omnibus:                        1.715   Durbin-Watson:                   1.986\n",
            "Prob(Omnibus):                  0.424   Jarque-Bera (JB):                1.153\n",
            "Skew:                           0.189   Prob(JB):                        0.562\n",
            "Kurtosis:                       3.366   Cond. No.                     7.40e+08\n",
            "==============================================================================\n",
            "\n",
            "Warnings:\n",
            "[1] Standard Errors assume that the covariance matrix of the errors is correctly specified.\n",
            "[2] The condition number is large, 7.4e+08. This might indicate that there are\n",
            "strong multicollinearity or other numerical problems.\n"
          ],
          "name": "stdout"
        }
      ]
    }
  ]
}